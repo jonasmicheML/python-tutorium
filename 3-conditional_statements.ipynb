{
 "cells": [
  {
   "cell_type": "markdown",
   "metadata": {},
   "source": [
    "# Conditional Statements"
   ]
  },
  {
   "cell_type": "markdown",
   "metadata": {},
   "source": [
    "This Notebook will cover, if, else, elif and some boolean operators."
   ]
  },
  {
   "cell_type": "markdown",
   "metadata": {},
   "source": [
    "### Relational Operators\n",
    "- Equality Operator: `a == b` (Test for equality)\n",
    "- Inequality Operator: `a != b` (Test for inequality)\n",
    "- Greater Than Operator: `a > b` (Test if the left operand is greater than the right operand)\n",
    "- Less Than Operator: `a < b` (Test if the left operand is less than the right operand)\n",
    "- Greater Than or Equal Operator: `a >= b` (Test if the left operand is greater than or equal to the right operand)\n",
    "- Less Than or Equal Operator: `a <= b` (Test if the left operand is less than or equal to the right operand)\n",
    "\n"
   ]
  },
  {
   "cell_type": "code",
   "execution_count": 15,
   "metadata": {},
   "outputs": [
    {
     "data": {
      "text/plain": [
       "True"
      ]
     },
     "execution_count": 15,
     "metadata": {},
     "output_type": "execute_result"
    }
   ],
   "source": [
    "# Example 1\n",
    "7 + 3 == 10"
   ]
  },
  {
   "cell_type": "code",
   "execution_count": 16,
   "metadata": {},
   "outputs": [
    {
     "data": {
      "text/plain": [
       "False"
      ]
     },
     "execution_count": 16,
     "metadata": {},
     "output_type": "execute_result"
    }
   ],
   "source": [
    "# Example 2\n",
    "7 < 5"
   ]
  },
  {
   "cell_type": "code",
   "execution_count": 1,
   "metadata": {},
   "outputs": [
    {
     "data": {
      "text/plain": [
       "False"
      ]
     },
     "execution_count": 1,
     "metadata": {},
     "output_type": "execute_result"
    }
   ],
   "source": [
    "# Example 3\n",
    "\"Hello\" == \"hello\""
   ]
  },
  {
   "cell_type": "markdown",
   "metadata": {},
   "source": [
    "### Logical Operators\n",
    "- `and` (True if both the operands are true)\n",
    "- `or` (True if either of the operands is true)\n",
    "- `not` (True if operand is false)"
   ]
  },
  {
   "cell_type": "code",
   "execution_count": 18,
   "metadata": {},
   "outputs": [
    {
     "data": {
      "text/plain": [
       "True"
      ]
     },
     "execution_count": 18,
     "metadata": {},
     "output_type": "execute_result"
    }
   ],
   "source": [
    "True and True"
   ]
  },
  {
   "cell_type": "code",
   "execution_count": 19,
   "metadata": {},
   "outputs": [
    {
     "data": {
      "text/plain": [
       "True"
      ]
     },
     "execution_count": 19,
     "metadata": {},
     "output_type": "execute_result"
    }
   ],
   "source": [
    "False or True"
   ]
  },
  {
   "cell_type": "code",
   "execution_count": 20,
   "metadata": {},
   "outputs": [
    {
     "data": {
      "text/plain": [
       "True"
      ]
     },
     "execution_count": 20,
     "metadata": {},
     "output_type": "execute_result"
    }
   ],
   "source": [
    "not False and True"
   ]
  },
  {
   "cell_type": "markdown",
   "metadata": {},
   "source": [
    "### Connect Relational and Logical Operators"
   ]
  },
  {
   "cell_type": "code",
   "execution_count": 26,
   "metadata": {},
   "outputs": [
    {
     "data": {
      "text/plain": [
       "True"
      ]
     },
     "execution_count": 26,
     "metadata": {},
     "output_type": "execute_result"
    }
   ],
   "source": [
    "1 == 0.5 + 0.5 and 2 == 10 / 5"
   ]
  },
  {
   "cell_type": "code",
   "execution_count": 27,
   "metadata": {},
   "outputs": [
    {
     "data": {
      "text/plain": [
       "False"
      ]
     },
     "execution_count": 27,
     "metadata": {},
     "output_type": "execute_result"
    }
   ],
   "source": [
    "not 1 == 0.5 + 0.5 and 2 == 10 / 5"
   ]
  },
  {
   "cell_type": "markdown",
   "metadata": {},
   "source": [
    "### Single Conditional Statements"
   ]
  },
  {
   "cell_type": "markdown",
   "metadata": {},
   "source": [
    "``` python\n",
    "if (condition):\n",
    "    statement_1\n",
    "else:\n",
    "    statement_2\n",
    "```"
   ]
  },
  {
   "cell_type": "code",
   "execution_count": 28,
   "metadata": {},
   "outputs": [
    {
     "name": "stdout",
     "output_type": "stream",
     "text": [
      "n is so GREAT!\n"
     ]
    }
   ],
   "source": [
    "n = 5\n",
    "if n > 3:\n",
    "    print(\"n is so GREAT!\")"
   ]
  },
  {
   "cell_type": "code",
   "execution_count": 29,
   "metadata": {},
   "outputs": [
    {
     "name": "stdout",
     "output_type": "stream",
     "text": [
      "n is so small!\n"
     ]
    }
   ],
   "source": [
    "n = 2\n",
    "if n > 3:\n",
    "    print(\"n is so GREAT!\")\n",
    "else: \n",
    "    print(\"n is so small!\")"
   ]
  },
  {
   "cell_type": "markdown",
   "metadata": {},
   "source": [
    "### Multiple Conditional Statements"
   ]
  },
  {
   "cell_type": "markdown",
   "metadata": {},
   "source": [
    "``` python\n",
    "if (condition):\n",
    "    statement_1\n",
    "elif (condition):\n",
    "    statement_2\n",
    "else:\n",
    "    statement_3\n",
    "```"
   ]
  },
  {
   "cell_type": "code",
   "execution_count": 34,
   "metadata": {},
   "outputs": [
    {
     "name": "stdout",
     "output_type": "stream",
     "text": [
      "The number is positive.\n"
     ]
    }
   ],
   "source": [
    "number = 1\n",
    "# number = -12\n",
    "# number = 0\n",
    "\n",
    "if number > 0:\n",
    "        print(\"The number is positive.\")\n",
    "elif number < 0:\n",
    "    print(\"The number is negative.\")\n",
    "else:\n",
    "    print(\"The number is zero.\")"
   ]
  },
  {
   "cell_type": "markdown",
   "metadata": {},
   "source": [
    "### Exercises"
   ]
  },
  {
   "cell_type": "markdown",
   "metadata": {},
   "source": [
    "**Task 1:** Write a program that prompts the user for a number. Check whether the number is even or odd and print the result."
   ]
  },
  {
   "cell_type": "code",
   "execution_count": 2,
   "metadata": {},
   "outputs": [
    {
     "name": "stdout",
     "output_type": "stream",
     "text": [
      "The number is odd.\n"
     ]
    }
   ],
   "source": [
    "# your code\n",
    "input_number = int(input(\"Input a number: \"))\n",
    "\n",
    "if input_number % 2 == 0:\n",
    "    print(\"The number is even.\")\n",
    "else:\n",
    "    print(\"The number is odd.\")\n",
    "\n"
   ]
  },
  {
   "cell_type": "markdown",
   "metadata": {},
   "source": [
    "**Task 2:** Have the user enter a score. Based on the score (0-100), output a grade (e.g., A, B, C, D, F). Use an If-Else structure for this."
   ]
  },
  {
   "cell_type": "code",
   "execution_count": 7,
   "metadata": {},
   "outputs": [
    {
     "name": "stdout",
     "output_type": "stream",
     "text": [
      "Grade: B\n"
     ]
    }
   ],
   "source": [
    "# your code\n",
    "input_score = int(input(\"Input a score:\"))\n",
    "\n",
    "\n",
    "if input_score > 100:\n",
    "    print(\"This is not a valid score. Try again.\")\n",
    "elif input_score > 80:\n",
    "    print(\"Grade: A\")\n",
    "elif input_score > 60:\n",
    "    print(\"Grade: B\")\n",
    "elif input_score > 40:\n",
    "    print(\"Grade: C\")\n",
    "elif input_score > 2:\n",
    "    print(\"Grade: D\")\n",
    "else:\n",
    "    print(\"Grade: F\")\n",
    "\n"
   ]
  },
  {
   "cell_type": "markdown",
   "metadata": {},
   "source": [
    "**Task 3:** Create a basic calculator. Allow the user to input two numbers and an operator (+, -, *, /). Perform the calculation and display the result."
   ]
  },
  {
   "cell_type": "code",
   "execution_count": 10,
   "metadata": {},
   "outputs": [
    {
     "name": "stdout",
     "output_type": "stream",
     "text": [
      "4  +  5  =  9\n"
     ]
    }
   ],
   "source": [
    "# your code\n",
    "input_number_1 = int(input(\"Input a number: \"))\n",
    "input_number_2 = int(input(\"Input another number: \"))\n",
    "input_operator = input(\"Input an operator (+, -, *, /): \")\n",
    "\n",
    "if input_operator == \"+\":\n",
    "    print(input_number_1, \" + \", input_number_2, \" = \", input_number_1 + input_number_2)\n",
    "elif input_operator == \"-\":\n",
    "    print(input_number_1, \" - \", input_number_2, \" = \", input_number_1 - input_number_2)\n",
    "elif input_operator == \"*\":\n",
    "    print(input_number_1, \" * \", input_number_2, \" = \", input_number_1 * input_number_2)\n",
    "elif input_operator == \"/\":\n",
    "    print(input_number_1, \" / \", input_number_2, \" = \", input_number_1 / input_number_2)\n",
    "else:\n",
    "    print(\"Invalid operator. Try again.\")\n",
    "\n"
   ]
  },
  {
   "cell_type": "markdown",
   "metadata": {},
   "source": [
    "**Task 4:** Prompt the user to enter the lengths of the three sides of a triangle. Determine whether the triangle is equilateral (all sides are equal), isosceles (2 sides are equal), or scalene (all sides are different).\n"
   ]
  },
  {
   "cell_type": "code",
   "execution_count": 12,
   "metadata": {},
   "outputs": [
    {
     "name": "stdout",
     "output_type": "stream",
     "text": [
      "This is a scalene triangle.\n"
     ]
    }
   ],
   "source": [
    "# your code\n",
    "side_1 = int(input(\"Input the length of side 1: \"))\n",
    "side_2 = int(input(\"Input the length of side 2: \"))\n",
    "side_3 = int(input(\"Input the length of side 3: \"))\n",
    "\n",
    "if side_1 == side_2 and side_2 == side_3:\n",
    "    print(\"This is an equilateral triangle.\")\n",
    "elif side_1 == side_2 or side_2 == side_3 or side_1 == side_3:\n",
    "    print(\"This is an isosceles triangle.\")\n",
    "else:\n",
    "    print(\"This is a scalene triangle.\")\n"
   ]
  },
  {
   "cell_type": "markdown",
   "metadata": {},
   "source": [
    "**Task 5:** Create a program that checks if a given email address is valid DHBW email adress."
   ]
  },
  {
   "cell_type": "code",
   "execution_count": 13,
   "metadata": {},
   "outputs": [
    {
     "name": "stdout",
     "output_type": "stream",
     "text": [
      "This is a valid student email address.\n"
     ]
    }
   ],
   "source": [
    "# your code\n",
    "inpute_email = input(\"Input an email address: \")\n",
    "\n",
    "if \"@lehre.dhbw-stuttgart.de\" in inpute_email:\n",
    "    print(\"This is a valid student email address.\")\n",
    "else:\n",
    "    print(\"This is not a valid student email address.\")"
   ]
  },
  {
   "cell_type": "markdown",
   "metadata": {},
   "source": [
    "**Task 6:** Build a shopping cart program that allows users to input items and their prices to a 2 dimensional list. The program should apply a 10% discount if the total price is over $100 and display the final price."
   ]
  },
  {
   "cell_type": "code",
   "execution_count": 15,
   "metadata": {},
   "outputs": [
    {
     "name": "stdout",
     "output_type": "stream",
     "text": [
      "You get a 10% discount.\n",
      "Your total price is:  94.5\n"
     ]
    }
   ],
   "source": [
    "# your code\n",
    "shopping_cart =[[\"banana\", \"apple\"],[20, 30]]\n",
    "\n",
    "new_item = input(\"Input an item: \")\n",
    "new_item_price = int(input(\"Input the price of the item: \"))\n",
    "\n",
    "shopping_cart[0].append(new_item)\n",
    "shopping_cart[1].append(new_item_price)\n",
    "\n",
    "total_price = sum(shopping_cart[1])\n",
    "\n",
    "if total_price > 100:\n",
    "    total_price = total_price * 0.9\n",
    "    print(\"You get a 10% discount.\")\n",
    "\n",
    "print(\"Your total price is: \", total_price)\n"
   ]
  },
  {
   "cell_type": "markdown",
   "metadata": {},
   "source": [
    "**Task: 7** Write a program that checks if a given year is a leap year. A year is a leap year if it is divisible by 4 but not divisible by 100, or if it is divisible by 400. Display a message indicating whether the year is a leap year or not."
   ]
  },
  {
   "cell_type": "code",
   "execution_count": 17,
   "metadata": {},
   "outputs": [
    {
     "name": "stdout",
     "output_type": "stream",
     "text": [
      "This is a leap year.\n"
     ]
    }
   ],
   "source": [
    "# your code\n",
    "input_year = int(input(\"Input a year: \"))\n",
    "\n",
    "if input_year % 4 == 0 and input_year % 100 != 0:\n",
    "    print(\"This is a leap year.\")\n",
    "elif input_year % 400 == 0:\n",
    "    print(\"This is a leap year.\")\n",
    "else:\n",
    "    print(\"This is not a leap year.\")"
   ]
  },
  {
   "cell_type": "markdown",
   "metadata": {},
   "source": [
    "**Task: 8** Ask the user for a number. Check if the entered number is a prime number or not. Display an appropriate message.\n",
    "\n",
    "\n"
   ]
  },
  {
   "cell_type": "code",
   "execution_count": 19,
   "metadata": {},
   "outputs": [
    {
     "name": "stdout",
     "output_type": "stream",
     "text": [
      "This is not a prime number or not documented.\n"
     ]
    }
   ],
   "source": [
    "# your code\n",
    "prime_numbers = [2, 3, 5, 7, 11, 13, 17, 19, 23, 29, 31, 37, 41, 43, 47, 53, 59, 61, 67, 71, 73, 79, 83, 89, 97]\n",
    "\n",
    "input_number = int(input(\"Input a number: \"))\n",
    "\n",
    "if input_number in prime_numbers:\n",
    "    print(\"This is a prime number.\")\n",
    "else:\n",
    "    print(\"This is not a prime number or not documented.\")\n"
   ]
  },
  {
   "cell_type": "markdown",
   "metadata": {},
   "source": [
    "**Task: 9** Develop a program for a movie theater that calculates ticket prices based on age and time of day. The program should offer discounts for children (age < 12) and seniors (age >= 65) and have different pricing for afternoon and evening shows. The evening shows should be 20% more expensive than the afternoon shows. The program should prompt the user for the movie time (afternoon or evening) and age. Then, the program should display the ticket price."
   ]
  },
  {
   "cell_type": "code",
   "execution_count": 20,
   "metadata": {},
   "outputs": [
    {
     "name": "stdout",
     "output_type": "stream",
     "text": [
      "Your ticket price is:  8.0\n"
     ]
    }
   ],
   "source": [
    "# your code\n",
    "# there are multiple ways to solve this problem\n",
    "\n",
    "input_age = int(input(\"Input your age: \"))\n",
    "input_time = input(\"Is it a afternoon or evening show? (a/e): \")\n",
    "\n",
    "standard_price = 10\n",
    "\n",
    "if input_time == \"a\":\n",
    "    price = standard_price * 0.8\n",
    "else:\n",
    "    price = standard_price\n",
    "\n",
    "if input_age < 12 or input_age > 65:\n",
    "    price = price - 2\n",
    "\n",
    "print(\"Your ticket price is: \", price)"
   ]
  }
 ],
 "metadata": {
  "kernelspec": {
   "display_name": "python-tut",
   "language": "python",
   "name": "python3"
  },
  "language_info": {
   "codemirror_mode": {
    "name": "ipython",
    "version": 3
   },
   "file_extension": ".py",
   "mimetype": "text/x-python",
   "name": "python",
   "nbconvert_exporter": "python",
   "pygments_lexer": "ipython3",
   "version": "3.9.13"
  }
 },
 "nbformat": 4,
 "nbformat_minor": 2
}
