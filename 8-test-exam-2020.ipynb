{
 "cells": [
  {
   "cell_type": "markdown",
   "metadata": {},
   "source": [
    "## Aufgabenteil A - Grundlagen"
   ]
  },
  {
   "cell_type": "markdown",
   "metadata": {},
   "source": [
    "### Aufgabe A1 - Python und Python Interpreter"
   ]
  },
  {
   "cell_type": "markdown",
   "metadata": {},
   "source": [
    "- Für was stehtdas Programm python , dass Sie unter anderem in der Konsole aufrufen, also z.B. $ python …?\n",
    "- Was ist der Python Interpreter? Was ist der Unterschied zwischen interpretierten und compilierten Sprachen?\n",
    "- Was ist eine typische Dateiendung für Python‐Quellcodedateien?\n",
    "\n",
    "..."
   ]
  },
  {
   "cell_type": "markdown",
   "metadata": {},
   "source": [
    "### Aufgabe A2 - Print"
   ]
  },
  {
   "cell_type": "code",
   "execution_count": 1,
   "metadata": {},
   "outputs": [],
   "source": [
    "# main.py\n",
    "\n"
   ]
  },
  {
   "cell_type": "markdown",
   "metadata": {},
   "source": [
    "### Aufabe A3 - Dateitypen"
   ]
  },
  {
   "cell_type": "code",
   "execution_count": 2,
   "metadata": {},
   "outputs": [],
   "source": [
    "# convert.py\n",
    "\n"
   ]
  },
  {
   "cell_type": "markdown",
   "metadata": {},
   "source": [
    "### Aufgabe A4 - Typisierung"
   ]
  },
  {
   "cell_type": "markdown",
   "metadata": {},
   "source": [
    "## Aufgabenteil B - Weiterführende Themen"
   ]
  },
  {
   "cell_type": "markdown",
   "metadata": {},
   "source": [
    "### Aufgabe B1 - Rechnen und Funktionen"
   ]
  },
  {
   "cell_type": "code",
   "execution_count": 3,
   "metadata": {},
   "outputs": [],
   "source": [
    "# divide.py\n",
    "\n",
    "\n"
   ]
  },
  {
   "cell_type": "markdown",
   "metadata": {},
   "source": [
    "### Aufgabe B2 - Funktionen und Stringausgabe"
   ]
  },
  {
   "cell_type": "code",
   "execution_count": 4,
   "metadata": {},
   "outputs": [],
   "source": [
    "# hallo.py\n",
    "\n"
   ]
  },
  {
   "cell_type": "markdown",
   "metadata": {},
   "source": [
    "Funktionen in Python werden dazu verwendet, um Codeblöcke zu definieren, die später wieder verwendet werden können. "
   ]
  },
  {
   "cell_type": "markdown",
   "metadata": {},
   "source": [
    "### Aufgabe B3 - Schleifen"
   ]
  },
  {
   "cell_type": "code",
   "execution_count": 5,
   "metadata": {},
   "outputs": [],
   "source": [
    "# loop.py\n",
    "\n",
    "\n"
   ]
  },
  {
   "cell_type": "markdown",
   "metadata": {},
   "source": [
    "Andere Möglichkeit: While-Schleife <br>\n",
    "Der Unterschied zwischen While- und For-Schleife ist, dass die For-Schleife eine bestimmte Anzahl an Durchläufen hat, während die While-Schleife so lange läuft, bis eine bestimmte Bedingung erfüllt ist."
   ]
  },
  {
   "cell_type": "markdown",
   "metadata": {},
   "source": [
    "### Aufgabe B4 - Verzweigungen"
   ]
  },
  {
   "cell_type": "code",
   "execution_count": 6,
   "metadata": {},
   "outputs": [],
   "source": [
    "# condition.py\n",
    "\n",
    "\n"
   ]
  },
  {
   "cell_type": "markdown",
   "metadata": {},
   "source": [
    "Boolean ist ein Datentyp, der nur zwei Werte annehmen kann: True oder False."
   ]
  },
  {
   "cell_type": "markdown",
   "metadata": {},
   "source": [
    "## Aufgabenteil C - Fallbeispiele mit Klassen und Objekten"
   ]
  },
  {
   "cell_type": "markdown",
   "metadata": {},
   "source": [
    "### Aufgabe C1 - Studierendenverwaltung"
   ]
  },
  {
   "cell_type": "code",
   "execution_count": 6,
   "metadata": {},
   "outputs": [],
   "source": [
    "# student.py\n",
    "\n",
    "class Student:\n",
    "    def __init__(self, name, studentID, averageMark):\n",
    "        self.name = name\n",
    "        self.studentID = studentID\n",
    "        self.averageMark = averageMark\n"
   ]
  },
  {
   "cell_type": "code",
   "execution_count": 5,
   "metadata": {},
   "outputs": [
    {
     "name": "stdout",
     "output_type": "stream",
     "text": [
      "1.5\n"
     ]
    }
   ],
   "source": [
    "# main.py\n",
    "students = [Student(\"Maxine Muster\", 2, 1.0), Student(\"Bert Beispiel\", 1, 2.0)]\n",
    "\n",
    "sumAverageMark = 0\n",
    "\n",
    "for student in students:\n",
    "    # sumAverageMark = sumAverageMark + student.averageMark\n",
    "    sumAverageMark += student.averageMark\n",
    "\n",
    "totalAverageMark = sumAverageMark / len(students)\n",
    "\n",
    "print(totalAverageMark)\n",
    "\n"
   ]
  },
  {
   "cell_type": "markdown",
   "metadata": {},
   "source": [
    "### Aufgabe C2 - E-Auto Batterie"
   ]
  },
  {
   "cell_type": "code",
   "execution_count": 20,
   "metadata": {},
   "outputs": [],
   "source": [
    "# ecar.py\n",
    "\n",
    "class ECar:\n",
    "    def __init__(self, name, batteryCharge = 100):\n",
    "        self.name = name\n",
    "        self.batteryCharge = batteryCharge\n",
    "    \n",
    "    def charge(self, amount):\n",
    "        if amount < 0:\n",
    "            print(\"Kein negatives Laden möglich!\")\n",
    "        elif self.batteryCharge + amount >= 100:\n",
    "            self.batteryCharge = 100\n",
    "        else:\n",
    "            self.batteryCharge += amount\n",
    "\n",
    "        print(\"Ladestand:\", self.batteryCharge)\n",
    "\n",
    "    def drive(self, distance):\n",
    "        # if distance < 0:\n",
    "        #     # distance = distance * (-1)\n",
    "        #     distance = abs(distance)\n",
    "        \n",
    "        if self.batteryCharge < abs(distance):\n",
    "            print(\"Batterieladung nicht ausreichen. Bitte vorher laden!\")\n",
    "        else:\n",
    "            self.batteryCharge -= abs(distance)\n",
    "            print(\"Gefahrene Kilometer:\", abs(distance))\n",
    "            print(\"Batterie:\", self.batteryCharge)\n",
    "\n",
    "        if self.batteryCharge <= 10:\n",
    "            print(\"Warnung: Der Batteriestand ist gering!!!\")\n"
   ]
  },
  {
   "cell_type": "code",
   "execution_count": 21,
   "metadata": {},
   "outputs": [
    {
     "name": "stdout",
     "output_type": "stream",
     "text": [
      "Gefahrene Kilometer: 42\n",
      "Batterie: 8\n",
      "Warnung: Der Batteriestand ist gering!!!\n",
      "Ladestand: 18\n",
      "Gefahrene Kilometer: 10\n",
      "Batterie: 8\n",
      "Warnung: Der Batteriestand ist gering!!!\n"
     ]
    }
   ],
   "source": [
    "# from ecar import ECar\n",
    "car1 = ECar(\"Resla Toadstar\", 50)\n",
    "\n",
    "car1.drive(42)\n",
    "car1.charge(10)\n",
    "car1.drive(10)"
   ]
  }
 ],
 "metadata": {
  "kernelspec": {
   "display_name": "base",
   "language": "python",
   "name": "python3"
  },
  "language_info": {
   "codemirror_mode": {
    "name": "ipython",
    "version": 3
   },
   "file_extension": ".py",
   "mimetype": "text/x-python",
   "name": "python",
   "nbconvert_exporter": "python",
   "pygments_lexer": "ipython3",
   "version": "3.9.13"
  }
 },
 "nbformat": 4,
 "nbformat_minor": 2
}
