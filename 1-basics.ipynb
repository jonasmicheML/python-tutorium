{
 "cells": [
  {
   "cell_type": "markdown",
   "metadata": {},
   "source": [
    "# Python Basics\n",
    "\n",
    "Welcome to the Python Basics tutorial! This notebook covers variables and data structures.\n"
   ]
  },
  {
   "cell_type": "markdown",
   "metadata": {},
   "source": [
    "## Variables\n",
    "\n",
    "Variables are used to store values. A variable can be created by assigning a value to it using the `=` operator. For example, let's create a variable named `message` and assign it a value `'Hello, World!'`:"
   ]
  },
  {
   "cell_type": "code",
   "execution_count": 20,
   "metadata": {},
   "outputs": [
    {
     "name": "stdout",
     "output_type": "stream",
     "text": [
      "Hello, World!\n"
     ]
    }
   ],
   "source": [
    "message = \"Hello, World!\"\n",
    "print(message)"
   ]
  },
  {
   "cell_type": "markdown",
   "metadata": {},
   "source": [
    "Name Convention:\n",
    "\n",
    "- Variable names can only contain letters, digits and underscores\n",
    "- Variable names cannot start with a digit\n",
    "- Variable names are case sensitive (age, Age and AGE are three different variables)\n",
    "- Variable names cannot be a keyword (like `if`, `else`, `elif`, `for`, `while` etc.)\n"
   ]
  },
  {
   "cell_type": "markdown",
   "metadata": {},
   "source": [
    "<br>"
   ]
  },
  {
   "cell_type": "markdown",
   "metadata": {},
   "source": [
    "## Data Types"
   ]
  },
  {
   "cell_type": "markdown",
   "metadata": {},
   "source": [
    "1. **int:** *Integer*\n",
    "   - Represents whole numbers without any decimal points.\n",
    "   - Example: `42`\n",
    "\n",
    "<br>   \n",
    "\n",
    "2. **float:** *Floating-point*\n",
    "   - Represents numbers with decimal points or in exponential form.\n",
    "   - Example: `3.14`\n",
    "\n",
    "<br>\n",
    "\n",
    "3. **str:** *String*\n",
    "   - Represents a sequence of characters enclosed in single or double quotes.\n",
    "   - Example: `\"Hello, Python!\"`\n",
    "\n",
    "<br>\n",
    "\n",
    "4. **bool:** *Boolean*\n",
    "   - Represents either True or False.\n",
    "   - Used for logical operations and conditions.\n",
    "   - Example: `True`\n",
    "\n",
    "<br>\n",
    "\n",
    "5. **list:**\n",
    "   - Ordered collection of items (= fixed order), mutable (can be modified), duplicates possible.\n",
    "   - Enclosed in square brackets `[]`.\n",
    "   - Example: `[1, 5, 3, 3, 4]`\n",
    "\n",
    "<br>\n",
    "\n",
    "6. **tuple:**\n",
    "   - Ordered collection of items, immutable (cannot be modified).\n",
    "   - Enclosed in parentheses `()`.\n",
    "   - Example: `(1, 'apple', 3.14)`\n",
    "\n",
    "<br>\n",
    "\n",
    "7. **dict:** *Dictionary*\n",
    "   - Unordered collection of key-value pairs.\n",
    "   - Enclosed in curly braces `{}`.\n",
    "   - Example: `{\"name\": \"Alice\", \"age\": 30, \"city\": \"Wonderland\"}`\n",
    "\n",
    "<br>\n",
    "\n",
    "8. **set:**\n",
    "   - Unordered collection of unique items.\n",
    "   - Enclosed in curly braces `{}`.\n",
    "   - Example: `{1, 5, 3, 4}`\n",
    "\n",
    "These data types provide flexibility in representing different kinds of information in Python.\n"
   ]
  },
  {
   "cell_type": "markdown",
   "metadata": {},
   "source": [
    "<br>"
   ]
  },
  {
   "cell_type": "markdown",
   "metadata": {},
   "source": [
    "#### Lists"
   ]
  },
  {
   "cell_type": "code",
   "execution_count": 1,
   "metadata": {},
   "outputs": [],
   "source": [
    "test_list = [1, 5, 3, 3, 4]"
   ]
  },
  {
   "cell_type": "markdown",
   "metadata": {},
   "source": [
    "List indexing in Python allows you to access individual elements within a list. The indexing is zero-based, meaning the first element is at index 0, the second at index 1, and so on. Negative indexing is also allowed, where -1 represents the last element, -2 the second-to-last, and so forth"
   ]
  },
  {
   "cell_type": "code",
   "execution_count": 2,
   "metadata": {},
   "outputs": [
    {
     "data": {
      "text/plain": [
       "1"
      ]
     },
     "execution_count": 2,
     "metadata": {},
     "output_type": "execute_result"
    }
   ],
   "source": [
    "test_list[0] "
   ]
  },
  {
   "cell_type": "code",
   "execution_count": 3,
   "metadata": {},
   "outputs": [
    {
     "data": {
      "text/plain": [
       "4"
      ]
     },
     "execution_count": 3,
     "metadata": {},
     "output_type": "execute_result"
    }
   ],
   "source": [
    "test_list[-1]"
   ]
  },
  {
   "cell_type": "markdown",
   "metadata": {},
   "source": [
    "<br>"
   ]
  },
  {
   "cell_type": "markdown",
   "metadata": {},
   "source": [
    "#### Dictionary"
   ]
  },
  {
   "cell_type": "code",
   "execution_count": 24,
   "metadata": {},
   "outputs": [],
   "source": [
    "test_dict = {\"MacOs\": 10, \"Windows\": 15, \"Linux\": 3}"
   ]
  },
  {
   "cell_type": "markdown",
   "metadata": {},
   "source": [
    "It is possible to access the key value pairs stored in the dict."
   ]
  },
  {
   "cell_type": "code",
   "execution_count": 25,
   "metadata": {},
   "outputs": [
    {
     "data": {
      "text/plain": [
       "10"
      ]
     },
     "execution_count": 25,
     "metadata": {},
     "output_type": "execute_result"
    }
   ],
   "source": [
    "test_dict[\"MacOs\"]"
   ]
  },
  {
   "cell_type": "markdown",
   "metadata": {},
   "source": [
    "You can also change the values."
   ]
  },
  {
   "cell_type": "code",
   "execution_count": 26,
   "metadata": {},
   "outputs": [],
   "source": [
    "test_dict[\"Windows\"] = 16"
   ]
  },
  {
   "cell_type": "code",
   "execution_count": 27,
   "metadata": {},
   "outputs": [
    {
     "data": {
      "text/plain": [
       "{'MacOs': 10, 'Windows': 16, 'Linux': 3}"
      ]
     },
     "execution_count": 27,
     "metadata": {},
     "output_type": "execute_result"
    }
   ],
   "source": [
    "test_dict"
   ]
  },
  {
   "cell_type": "markdown",
   "metadata": {},
   "source": [
    "<br>"
   ]
  },
  {
   "cell_type": "markdown",
   "metadata": {},
   "source": [
    "## Exercise"
   ]
  },
  {
   "cell_type": "markdown",
   "metadata": {},
   "source": [
    "### 1. Create a variable `name` and assign it a string value."
   ]
  },
  {
   "cell_type": "code",
   "execution_count": 9,
   "metadata": {},
   "outputs": [],
   "source": [
    "# your code\n",
    "\n"
   ]
  },
  {
   "cell_type": "markdown",
   "metadata": {},
   "source": [
    "### 2. List Indexing"
   ]
  },
  {
   "cell_type": "code",
   "execution_count": 5,
   "metadata": {},
   "outputs": [],
   "source": [
    "fruits = [\"apple\", \"banana\", \"cherry\", \"orange\", \"kiwi\", \"melon\", \"mango\"]"
   ]
  },
  {
   "cell_type": "markdown",
   "metadata": {},
   "source": [
    "Which index does ```\"cherry\"``` have in the list ```fruits``` and how can we test it?\n",
    "\n",
    "```python"
   ]
  },
  {
   "cell_type": "code",
   "execution_count": 7,
   "metadata": {},
   "outputs": [],
   "source": [
    "# your code\n",
    "\n"
   ]
  },
  {
   "cell_type": "markdown",
   "metadata": {},
   "source": [
    "### 3. Dictionary\n",
    "\n",
    "Create a dict and change a value.\n"
   ]
  },
  {
   "cell_type": "code",
   "execution_count": 31,
   "metadata": {},
   "outputs": [],
   "source": [
    "# your code\n",
    "\n"
   ]
  }
 ],
 "metadata": {
  "kernelspec": {
   "display_name": "data-science_dublin",
   "language": "python",
   "name": "python3"
  },
  "language_info": {
   "codemirror_mode": {
    "name": "ipython",
    "version": 3
   },
   "file_extension": ".py",
   "mimetype": "text/x-python",
   "name": "python",
   "nbconvert_exporter": "python",
   "pygments_lexer": "ipython3",
   "version": "3.9.13"
  }
 },
 "nbformat": 4,
 "nbformat_minor": 2
}
