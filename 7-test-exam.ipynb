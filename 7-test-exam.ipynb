{
 "cells": [
  {
   "cell_type": "markdown",
   "metadata": {},
   "source": [
    "# Björns Test Exam"
   ]
  },
  {
   "cell_type": "markdown",
   "metadata": {},
   "source": [
    "## Aufgabenteil A ‐ Grundlagen\n",
    "\n",
    "### Aufgabe A1 ‐ Textausgabe"
   ]
  },
  {
   "cell_type": "markdown",
   "metadata": {},
   "source": [
    "#### A1.1"
   ]
  },
  {
   "cell_type": "code",
   "execution_count": 147,
   "metadata": {},
   "outputs": [
    {
     "name": "stdout",
     "output_type": "stream",
     "text": [
      "Klausur am 14.12.2022\n"
     ]
    }
   ],
   "source": [
    "# hello.py\n",
    "message = \"Klausur am \" + str(14) + \".\" + str(12) + \".\" + str(2022)\n",
    "\n",
    "# print\n",
    "print(message)"
   ]
  },
  {
   "cell_type": "markdown",
   "metadata": {},
   "source": [
    "#### A1.2"
   ]
  },
  {
   "cell_type": "markdown",
   "metadata": {},
   "source": [
    "console output: \n",
    "\n",
    "Klausur am 14.12.2022"
   ]
  },
  {
   "cell_type": "markdown",
   "metadata": {},
   "source": [
    "#### A1.3"
   ]
  },
  {
   "cell_type": "markdown",
   "metadata": {},
   "source": [
    "difference between `print(\"text\", \"text\")` and `print(\"text\" + \"text\")`:"
   ]
  },
  {
   "cell_type": "markdown",
   "metadata": {},
   "source": [
    "output: text text vs. texttext"
   ]
  },
  {
   "cell_type": "markdown",
   "metadata": {},
   "source": [
    "<br>"
   ]
  },
  {
   "cell_type": "markdown",
   "metadata": {},
   "source": [
    "### Aufgabe A2 ‐ Datentypen, Typisierung und Casts"
   ]
  },
  {
   "cell_type": "markdown",
   "metadata": {},
   "source": [
    "#### A2.1"
   ]
  },
  {
   "cell_type": "code",
   "execution_count": 148,
   "metadata": {},
   "outputs": [
    {
     "name": "stdout",
     "output_type": "stream",
     "text": [
      "2\n"
     ]
    }
   ],
   "source": [
    "# calculate.py 2\n",
    "\n",
    "# eingabe\n",
    "input = 1\n",
    "\n",
    "# int zu float\n",
    "float_cast = float(input)\n",
    "\n",
    "# float addieren\n",
    "new_float = float_cast + 1.22\n",
    "\n",
    "# float zu int\n",
    "int_cast = int(new_float)\n",
    "\n",
    "# ausgabe mit print()\n",
    "print(int_cast)"
   ]
  },
  {
   "cell_type": "markdown",
   "metadata": {},
   "source": [
    "#### A2.3"
   ]
  },
  {
   "cell_type": "markdown",
   "metadata": {},
   "source": [
    "difference between `int` and `float`:\n",
    "integer vs. floating point number"
   ]
  },
  {
   "cell_type": "markdown",
   "metadata": {},
   "source": [
    "<br>"
   ]
  },
  {
   "cell_type": "markdown",
   "metadata": {},
   "source": [
    "## Aufgabenteil B ‐ Weiterführende Themen"
   ]
  },
  {
   "cell_type": "markdown",
   "metadata": {},
   "source": [
    "### Aufgabe B1 ‐ Verzweigungen"
   ]
  },
  {
   "cell_type": "markdown",
   "metadata": {},
   "source": [
    "#### B1.1"
   ]
  },
  {
   "cell_type": "code",
   "execution_count": 149,
   "metadata": {},
   "outputs": [
    {
     "name": "stdout",
     "output_type": "stream",
     "text": [
      "hungrig & kann Rahmen-Suppe kaufen\n"
     ]
    }
   ],
   "source": [
    "# hungy.py\n",
    "\n",
    "# eingabe\n",
    "hungry = True\n",
    "money = 10\n",
    "\n",
    "# verzeigung\n",
    "if hungry == False and money > 0:\n",
    "    message = \"nicht hungrig & kann alles kaufen\"\n",
    "elif hungry == True and money == 0:\n",
    "    message = \"hungrig & kann nichts kaufen\"\n",
    "elif hungry == True and money < 10:\n",
    "    message = \"hungrig & kann Döner kaufen\"\n",
    "elif hungry == True and money >= 10:\n",
    "    message = \"hungrig & kann Rahmen-Suppe kaufen\"\n",
    "\n",
    "# ausgabe mit print()\n",
    "print(message)\n"
   ]
  },
  {
   "cell_type": "markdown",
   "metadata": {},
   "source": [
    "#### B1.3"
   ]
  },
  {
   "cell_type": "markdown",
   "metadata": {},
   "source": [
    "auf Bed. checken und dann ausführen und verschiedene Outcomes abhängig von der Bedingung ausführen"
   ]
  },
  {
   "cell_type": "markdown",
   "metadata": {},
   "source": [
    "#### B1.4"
   ]
  },
  {
   "cell_type": "markdown",
   "metadata": {},
   "source": [
    "= ist eine Zuweisung, == ist ein Vergleich"
   ]
  },
  {
   "cell_type": "markdown",
   "metadata": {},
   "source": [
    "#### B1.5"
   ]
  },
  {
   "cell_type": "markdown",
   "metadata": {},
   "source": [
    "True oder False, wird benutzt wurd Verzweigungen, vergleicht zwei Werte"
   ]
  },
  {
   "cell_type": "markdown",
   "metadata": {},
   "source": [
    "<br>"
   ]
  },
  {
   "cell_type": "markdown",
   "metadata": {},
   "source": [
    "### Aufgabe B2 ‐ Schleifen und Verzweigungen"
   ]
  },
  {
   "cell_type": "markdown",
   "metadata": {},
   "source": [
    "#### B2.1"
   ]
  },
  {
   "cell_type": "code",
   "execution_count": 150,
   "metadata": {},
   "outputs": [
    {
     "name": "stdout",
     "output_type": "stream",
     "text": [
      "Anzahl Würfe: 3\n",
      "Anzahl Sechsen: 0\n",
      "1\n"
     ]
    }
   ],
   "source": [
    "import random\n",
    "# roll.py\n",
    "\n",
    "# durchläufe\n",
    "count_rolls = 0\n",
    "\n",
    "# sechsen\n",
    "count_sixes = 0\n",
    "\n",
    "roll = 0\n",
    "# schleife\n",
    "while roll != 1:\n",
    "    roll = random.randint(1, 6)\n",
    "\n",
    "    if roll == 6:\n",
    "        count_sixes = count_sixes + 1\n",
    "\n",
    "    count_rolls = count_rolls + 1\n",
    "\n",
    "\n",
    "# ausgabe\n",
    "print(\"Anzahl Würfe: \" + str(count_rolls))\n",
    "print(\"Anzahl Sechsen: \" + str(count_sixes))\n",
    "print(roll)\n"
   ]
  },
  {
   "cell_type": "markdown",
   "metadata": {},
   "source": [
    "#### B2.2"
   ]
  },
  {
   "cell_type": "markdown",
   "metadata": {},
   "source": [
    "count_rolls = 1\n",
    "\n",
    "count_sixes = 0"
   ]
  },
  {
   "cell_type": "markdown",
   "metadata": {},
   "source": [
    "#### B2.3"
   ]
  },
  {
   "cell_type": "markdown",
   "metadata": {},
   "source": [
    "Der Sinn und Zweck ist, etwas so lange auszuführen, bis eine Bedingung erfüllt ist oder etwas eine gewisse festgelegte Anzahl durchlaufen zu lassen."
   ]
  },
  {
   "cell_type": "markdown",
   "metadata": {},
   "source": [
    "#### B2.4"
   ]
  },
  {
   "cell_type": "markdown",
   "metadata": {},
   "source": [
    "Der for loop macht etwas so lange wie es in der range ist. \n",
    "\n",
    "Der while loop macht etwas so lange wie die Bedingung wahr ist"
   ]
  },
  {
   "cell_type": "markdown",
   "metadata": {},
   "source": [
    "#### B2.5"
   ]
  },
  {
   "cell_type": "markdown",
   "metadata": {},
   "source": [
    "break: bricht des gesamten loop ab\n",
    "\n",
    "continue: bricht nur die aktuelle iteration ab"
   ]
  },
  {
   "cell_type": "markdown",
   "metadata": {},
   "source": [
    "<br>"
   ]
  },
  {
   "cell_type": "markdown",
   "metadata": {},
   "source": [
    "### Aufgabe B3 ‐ Funktionen und Verzweigungen"
   ]
  },
  {
   "cell_type": "markdown",
   "metadata": {},
   "source": [
    "#### B3.1"
   ]
  },
  {
   "cell_type": "code",
   "execution_count": 151,
   "metadata": {},
   "outputs": [
    {
     "name": "stdout",
     "output_type": "stream",
     "text": [
      "exam\n"
     ]
    }
   ],
   "source": [
    "import random \n",
    "# random.py\n",
    "\n",
    "# funktion\n",
    "def present():\n",
    "    number = random.randint(1, 3)\n",
    "    if number == 1:\n",
    "        present = \"book\"\n",
    "    elif number == 2:\n",
    "        present = \"exam\"\n",
    "    elif number == 3:\n",
    "        present = \"no exam\"\n",
    "\n",
    "    return present\n",
    "\n",
    "your_present = present()\n",
    "\n",
    "print(your_present)"
   ]
  },
  {
   "cell_type": "markdown",
   "metadata": {},
   "source": [
    "#### B3.2"
   ]
  },
  {
   "cell_type": "markdown",
   "metadata": {},
   "source": [
    "In diesem Beispiel number = 2:\n",
    "\n",
    "\"exam\""
   ]
  },
  {
   "cell_type": "markdown",
   "metadata": {},
   "source": [
    "#### B3.3"
   ]
  },
  {
   "cell_type": "markdown",
   "metadata": {},
   "source": [
    "Wiederverwendung von code (Modularisierung), übersichtlicher, einfacher zu debuggen"
   ]
  },
  {
   "cell_type": "markdown",
   "metadata": {},
   "source": [
    "#### B3.4"
   ]
  },
  {
   "cell_type": "markdown",
   "metadata": {},
   "source": [
    "import, importiert bereits vorgeschriebene Module\n",
    "\n",
    "return, returnt Werte von Funktionen"
   ]
  },
  {
   "cell_type": "markdown",
   "metadata": {},
   "source": [
    "<br>"
   ]
  },
  {
   "cell_type": "markdown",
   "metadata": {},
   "source": [
    "## Aufgabenteil C ‐ Fallbeispiele mit Klassen und Objekten"
   ]
  },
  {
   "cell_type": "markdown",
   "metadata": {},
   "source": [
    "### Aufgabe C1 ‐ Fallbeispiel 1: Listen von Objekten, Verbinden von Objekten"
   ]
  },
  {
   "cell_type": "markdown",
   "metadata": {},
   "source": [
    "#### Frage (1/2):"
   ]
  },
  {
   "cell_type": "code",
   "execution_count": 152,
   "metadata": {},
   "outputs": [],
   "source": [
    "# member.py\n",
    "\n",
    "class Member: \n",
    "    def __init__(self, name: str, age: float, memberID: int, partners: list):\n",
    "        self.name = name\n",
    "        self.age = age\n",
    "        self.memberID = memberID\n",
    "        self.partners = partners\n",
    "\n",
    "    def info(self):\n",
    "        return self.name + \"; \" + str(self.age) + \"; \" + str(self.memberID) + \"; \" + str(self.partners)\n",
    "    \n",
    "    def addPartner(self, partner):\n",
    "        self.partners.append(partner)\n",
    "\n",
    "    def getPartners(self):\n",
    "        return self.partners"
   ]
  },
  {
   "cell_type": "code",
   "execution_count": 153,
   "metadata": {},
   "outputs": [
    {
     "name": "stdout",
     "output_type": "stream",
     "text": [
      "Elisabeth; 21; 2; []\n",
      "Sabine; 22; 3; []\n",
      "Hans; 23; 4; []\n"
     ]
    }
   ],
   "source": [
    "# not exam: test the class\n",
    "member1 = Member(\"Klaus\", 20, 1, [])\n",
    "member2 = Member(\"Elisabeth\", 21, 2, [])\n",
    "member3 = Member(\"Sabine\", 22, 3, [])\n",
    "member4 = Member(\"Hans\", 23, 4, [])\n",
    "\n",
    "member1.addPartner(member2)\n",
    "member1.addPartner(member3)\n",
    "member1.addPartner(member4)\n",
    "\n",
    "for partner in member1.getPartners():\n",
    "    print(partner.info())"
   ]
  },
  {
   "cell_type": "markdown",
   "metadata": {},
   "source": [
    "#### Frage (2/2):"
   ]
  },
  {
   "cell_type": "code",
   "execution_count": 154,
   "metadata": {},
   "outputs": [],
   "source": [
    "# member.py\n",
    "class Member: \n",
    "# ... bisheriger code aus C1.1 ...\n",
    "    def __init__(self, name: str, age: float, memberID: int, partners: list):\n",
    "        self.name = name\n",
    "        self.age = age\n",
    "        self.memberID = memberID\n",
    "        self.partners = partners\n",
    "\n",
    "    def info(self):\n",
    "        return self.name + \"; \" + str(self.age) + \"; \" + str(self.memberID) + \"; \" + str(self.partners)\n",
    "    \n",
    "    def addPartner(self, partner):\n",
    "        self.partners.append(partner)\n",
    "\n",
    "    def getPartners(self):\n",
    "        return self.partners\n",
    "    \n",
    "    # ergänzung\n",
    "    def getPartnersByAgeGroup(self, minmumAge: float):\n",
    "        newPartnerList = []\n",
    "        for partner in self.partners:\n",
    "            if partner.age >= minmumAge:\n",
    "                newPartnerList.append(partner)\n",
    "        return newPartnerList"
   ]
  },
  {
   "cell_type": "code",
   "execution_count": 155,
   "metadata": {},
   "outputs": [],
   "source": [
    "# not exam: test the class\n",
    "member1 = Member(\"Klaus\", 20, 1, [])\n",
    "member2 = Member(\"Elisabeth\", 21, 2, [])\n",
    "member3 = Member(\"Sabine\", 22, 3, [])\n",
    "member4 = Member(\"Hans\", 23, 4, [])\n",
    "\n",
    "member1.addPartner(member2)\n",
    "member1.addPartner(member3)\n",
    "member1.addPartner(member4)"
   ]
  },
  {
   "cell_type": "code",
   "execution_count": 156,
   "metadata": {},
   "outputs": [
    {
     "name": "stdout",
     "output_type": "stream",
     "text": [
      "Sabine; 22; 3; []\n",
      "Hans; 23; 4; []\n"
     ]
    }
   ],
   "source": [
    "for partner in member1.getPartnersByAgeGroup(22):\n",
    "    print(partner.info())"
   ]
  },
  {
   "cell_type": "code",
   "execution_count": 157,
   "metadata": {},
   "outputs": [
    {
     "name": "stdout",
     "output_type": "stream",
     "text": [
      "Moritz; 40.0; 3; []\n"
     ]
    }
   ],
   "source": [
    "# test.py\n",
    "\n",
    "member1 = Member(\"Maxime\", 20.0, 1, [])  \n",
    "member2 = Member(\"Max\", 30.0, 2, [])\n",
    "member3 = Member(\"Moritz\", 40.0, 3, [])\n",
    "\n",
    "# hinzufuegen der spielpartner:innen\n",
    "member1.addPartner(member2)\n",
    "member1.addPartner(member3)\n",
    "\n",
    "# aufruf der methode getPartnersByAgeGroup()\n",
    "partners = member1.getPartnersByAgeGroup(40.0)\n",
    "\n",
    "# ausgabe der von info() des ergebnis-objekts oder der ergebnis-objekte\n",
    "for partner in partners:\n",
    "    print(partner.info())"
   ]
  },
  {
   "cell_type": "markdown",
   "metadata": {},
   "source": [
    "<br>"
   ]
  },
  {
   "cell_type": "markdown",
   "metadata": {},
   "source": [
    "### Aufgabe C2 ‐ Fallbeispiel 2: Verbinden von Objekten, Listen von Objekten"
   ]
  },
  {
   "cell_type": "markdown",
   "metadata": {},
   "source": [
    "#### Frage (1/3):"
   ]
  },
  {
   "cell_type": "code",
   "execution_count": 158,
   "metadata": {},
   "outputs": [],
   "source": [
    "# item.py\n",
    "\n",
    "# class with attributes name string , itemId int, amount float, price float and a method info()\n",
    "class Item:\n",
    "    def __init__(self, name: str, itemId: int, amount: float, price: float):\n",
    "        self.name = name\n",
    "        self.itemId = itemId\n",
    "        self.amount = amount\n",
    "        self.price = price\n",
    "\n",
    "    def info(self):\n",
    "        return self.name + \"; \" + str(self.itemId) + \"; \" + str(self.amount) + \"; \" + str(self.price)"
   ]
  },
  {
   "cell_type": "code",
   "execution_count": 159,
   "metadata": {},
   "outputs": [],
   "source": [
    "# test.py\n",
    "\n",
    "item1 = Item(\"Brot\", 1, 1.0, 1.0)\n",
    "item2 = Item(\"Milch\", 2, 2.0, 2.0)\n",
    "item3 = Item(\"Eier\", 3, 3.0, 3.0)\n",
    "item4 = Item(\"Wurst\", 4, 4.0, 4.0)\n",
    "item5 = Item(\"Käse\", 5, 5.0, 5.0)"
   ]
  },
  {
   "cell_type": "markdown",
   "metadata": {},
   "source": [
    "#### C2.2"
   ]
  },
  {
   "cell_type": "markdown",
   "metadata": {},
   "source": [
    "Klassen sind Vorlagen für Objekte und Objekte sind Instanzen von Klassen."
   ]
  },
  {
   "cell_type": "markdown",
   "metadata": {},
   "source": [
    "#### Frage (2/3):"
   ]
  },
  {
   "cell_type": "code",
   "execution_count": 160,
   "metadata": {},
   "outputs": [],
   "source": [
    "# itemgroup.py\n",
    "\n",
    "# class with attributes name string and itemGroupId int items list and a method info()\n",
    "\n",
    "class ItemGroup:\n",
    "    def __init__(self, name: str, itemGroupId: int, items: list):\n",
    "        self.name = name\n",
    "        self.itemGroupId = itemGroupId\n",
    "        self.items = items\n",
    "\n",
    "    def info(self):\n",
    "        return self.name + \"; \" + str(self.itemGroupId) + \"; \" + str(self.items)"
   ]
  },
  {
   "cell_type": "code",
   "execution_count": 161,
   "metadata": {},
   "outputs": [],
   "source": [
    "# test.py\n",
    "\n",
    "itemGroup1 = ItemGroup(\"Brotbelag\", 1, [item3, item4, item5])"
   ]
  },
  {
   "cell_type": "markdown",
   "metadata": {},
   "source": [
    "#### Frage (3/3):"
   ]
  },
  {
   "cell_type": "code",
   "execution_count": 162,
   "metadata": {},
   "outputs": [],
   "source": [
    "# item.py\n",
    "\n",
    "# class with attributes name string , itemId int, amount float, price float and a method info()\n",
    "class Item:\n",
    "    def __init__(self, name: str, itemId: int, amount: float, price: float, itemGroup: ItemGroup):\n",
    "        self.name = name\n",
    "        self.itemId = itemId\n",
    "        self.amount = amount\n",
    "        self.price = price\n",
    "        self.itemGroup = itemGroup\n",
    "\n",
    "    def info(self):\n",
    "        # added itemGroup to info() not nessessary for the exam\n",
    "        return self.name + \"; \" + str(self.itemId) + \"; \" + str(self.amount) + \"; \" + str(self.price) + \"; \" + str(self.itemGroup)"
   ]
  },
  {
   "cell_type": "code",
   "execution_count": 163,
   "metadata": {},
   "outputs": [
    {
     "name": "stdout",
     "output_type": "stream",
     "text": [
      "Anzahl: 3\n",
      "Preis: 12.0\n",
      "Durchschnitt: 4.0\n"
     ]
    }
   ],
   "source": [
    "# test.py\n",
    "\n",
    "item_count = 0\n",
    "total_price = 0\n",
    "for item in itemGroup1.items:\n",
    "    item_count = item_count + 1\n",
    "    total_price = total_price + item.price\n",
    "\n",
    "print(\"Anzahl: \" + str(item_count))\n",
    "print(\"Preis: \" + str(total_price))\n",
    "\n",
    "print(\"Durchschnitt: \" + str(total_price / item_count))"
   ]
  }
 ],
 "metadata": {
  "kernelspec": {
   "display_name": "python-tut",
   "language": "python",
   "name": "python3"
  },
  "language_info": {
   "codemirror_mode": {
    "name": "ipython",
    "version": 3
   },
   "file_extension": ".py",
   "mimetype": "text/x-python",
   "name": "python",
   "nbconvert_exporter": "python",
   "pygments_lexer": "ipython3",
   "version": "3.10.13"
  }
 },
 "nbformat": 4,
 "nbformat_minor": 2
}
