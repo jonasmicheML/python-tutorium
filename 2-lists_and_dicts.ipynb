{
 "cells": [
  {
   "cell_type": "markdown",
   "metadata": {},
   "source": [
    "5. **list:**\n",
    "   - Ordered collection of items (= fixed order), mutable (can be modified), duplicates possible.\n",
    "   - Enclosed in square brackets `[]`.\n",
    "   - Example: `[1, 5, 3, 3, 4]`\n",
    "\n",
    "<br>\n",
    "\n",
    "6. **tuple:**\n",
    "   - Ordered collection of items, immutable (cannot be modified).\n",
    "   - Enclosed in parentheses `()`.\n",
    "   - Example: `(1, 'apple', 3.14)`\n",
    "\n",
    "<br>\n",
    "\n",
    "7. **dict:** *Dictionary*\n",
    "   - Unordered collection of key-value pairs.\n",
    "   - Enclosed in curly braces `{}`.\n",
    "   - Example: `{\"name\": \"Alice\", \"age\": 30, \"city\": \"Wonderland\"}`\n",
    "\n",
    "<br>\n",
    "\n",
    "8. **set:**\n",
    "   - Unordered collection of unique items.\n",
    "   - Enclosed in curly braces `{}`.\n",
    "   - Example: `{1, 5, 3, 4}`"
   ]
  }
 ],
 "metadata": {
  "language_info": {
   "name": "python"
  },
  "orig_nbformat": 4
 },
 "nbformat": 4,
 "nbformat_minor": 2
}
