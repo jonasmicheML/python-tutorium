{
 "cells": [
  {
   "cell_type": "markdown",
   "metadata": {},
   "source": [
    "## Aufgabenteil A - Grundlagen"
   ]
  },
  {
   "cell_type": "markdown",
   "metadata": {},
   "source": [
    "### Aufgabe A1 - Python und Python Interpreter"
   ]
  },
  {
   "cell_type": "markdown",
   "metadata": {},
   "source": [
    "Der Unterschied zwischen interpretierten und compilierten Sprachen ist, dass bei interpretierten Sprachen der Quellcode zur Laufzeit in Maschinencode übersetzt wird, während bei compilierten Sprachen der Quellcode vor der Laufzeit in Maschinencode übersetzt wird."
   ]
  },
  {
   "cell_type": "markdown",
   "metadata": {},
   "source": [
    "### Aufgabe A2 - Print"
   ]
  },
  {
   "cell_type": "code",
   "execution_count": 1,
   "metadata": {},
   "outputs": [
    {
     "name": "stdout",
     "output_type": "stream",
     "text": [
      "Hallo Du!\n"
     ]
    }
   ],
   "source": [
    "# main.py\n",
    "\n",
    "print('Hallo Du!')"
   ]
  },
  {
   "cell_type": "markdown",
   "metadata": {},
   "source": [
    "main.py kann über die Konsole mit dem Befehl ```python main.py``` aufgerufen werden. "
   ]
  },
  {
   "cell_type": "markdown",
   "metadata": {},
   "source": [
    "### Aufabe A3 - Dateitypen"
   ]
  },
  {
   "cell_type": "code",
   "execution_count": 2,
   "metadata": {},
   "outputs": [
    {
     "name": "stdout",
     "output_type": "stream",
     "text": [
      "1\n"
     ]
    }
   ],
   "source": [
    "# convert.py\n",
    "\n",
    "number_float = 1.7                  # float number\n",
    "number_int = int(number_float)      # convert to integer\n",
    "\n",
    "print(number_int)"
   ]
  },
  {
   "cell_type": "markdown",
   "metadata": {},
   "source": [
    "### Aufgabe A4 - Typisierung"
   ]
  },
  {
   "cell_type": "markdown",
   "metadata": {},
   "source": [
    "- Stark typisierte Sprachen sind Sprachen, in denen Variablen einen festen Typ haben und nicht einfach zwischen Typen gewechselt werden kann. \n",
    "- Dynamisch implizit typisiert bedeutet, dass Variablen kein fester Datentyp zugewiesen werden muss, sondern der Datentyp sich aus dem Kontext ergibt."
   ]
  },
  {
   "cell_type": "markdown",
   "metadata": {},
   "source": [
    "## Aufgabenteil B - Weiterführende Themen"
   ]
  },
  {
   "cell_type": "markdown",
   "metadata": {},
   "source": [
    "### Aufgabe B1 - Rechnen und Funktionen"
   ]
  },
  {
   "cell_type": "code",
   "execution_count": 7,
   "metadata": {},
   "outputs": [
    {
     "name": "stdout",
     "output_type": "stream",
     "text": [
      "2.0\n"
     ]
    },
    {
     "data": {
      "text/plain": [
       "2.0"
      ]
     },
     "execution_count": 7,
     "metadata": {},
     "output_type": "execute_result"
    }
   ],
   "source": [
    "# divide.py\n",
    "\n",
    "def divide(dividend, divisor):\n",
    "    print(dividend / divisor)\n",
    "    return dividend / divisor\n",
    "\n",
    "divide(4,2)\n"
   ]
  },
  {
   "cell_type": "markdown",
   "metadata": {},
   "source": [
    "### Aufgabe B2 - Funktionen und Stringausgabe"
   ]
  },
  {
   "cell_type": "code",
   "execution_count": 8,
   "metadata": {},
   "outputs": [
    {
     "name": "stdout",
     "output_type": "stream",
     "text": [
      "Hallo 12345\n"
     ]
    }
   ],
   "source": [
    "# hallo.py\n",
    "\n",
    "def hallo(name):\n",
    "    print('Hallo ' + name)\n",
    "\n",
    "hallo('12345')"
   ]
  },
  {
   "cell_type": "markdown",
   "metadata": {},
   "source": [
    "Funktionen in Python werden dazu verwendet, um Codeblöcke zu definieren, die später wieder verwendet werden können. "
   ]
  },
  {
   "cell_type": "markdown",
   "metadata": {},
   "source": [
    "### Aufgabe B3 - Schleifen"
   ]
  },
  {
   "cell_type": "code",
   "execution_count": 11,
   "metadata": {},
   "outputs": [
    {
     "name": "stdout",
     "output_type": "stream",
     "text": [
      "2\n",
      "4\n",
      "6\n",
      "8\n",
      "10\n",
      "12\n",
      "14\n",
      "16\n",
      "18\n",
      "20\n",
      "22\n",
      "24\n",
      "26\n",
      "28\n",
      "30\n",
      "32\n",
      "34\n",
      "36\n",
      "38\n",
      "40\n",
      "42\n",
      "44\n",
      "46\n",
      "48\n",
      "50\n",
      "52\n",
      "54\n",
      "56\n",
      "58\n",
      "60\n",
      "62\n",
      "64\n",
      "66\n",
      "68\n",
      "70\n",
      "72\n",
      "74\n",
      "76\n",
      "78\n",
      "80\n",
      "82\n",
      "84\n",
      "86\n",
      "88\n",
      "90\n",
      "92\n",
      "94\n",
      "96\n",
      "98\n",
      "100\n"
     ]
    }
   ],
   "source": [
    "# loop.py\n",
    "\n",
    "for i in range(1, 101):\n",
    "    if i % 2 == 0:\n",
    "        print(i)\n"
   ]
  },
  {
   "cell_type": "markdown",
   "metadata": {},
   "source": [
    "Andere Möglichkeit: While-Schleife <br>\n",
    "Der Unterschied zwischen While- und For-Schleife ist, dass die For-Schleife eine bestimmte Anzahl an Durchläufen hat, während die While-Schleife so lange läuft, bis eine bestimmte Bedingung erfüllt ist."
   ]
  },
  {
   "cell_type": "markdown",
   "metadata": {},
   "source": [
    "### Aufgabe B4 - Verzweigungen"
   ]
  },
  {
   "cell_type": "code",
   "execution_count": 13,
   "metadata": {},
   "outputs": [
    {
     "name": "stdout",
     "output_type": "stream",
     "text": [
      "salty\n"
     ]
    }
   ],
   "source": [
    "# condition.py\n",
    "\n",
    "sweet = False\n",
    "salty = True\n",
    "\n",
    "if sweet and not salty:\n",
    "    print('sweet')\n",
    "elif not sweet and not salty:\n",
    "    print('bland')\n",
    "elif not sweet and salty:\n",
    "    print('salty')\n",
    "else:\n",
    "    print('confused')\n"
   ]
  },
  {
   "cell_type": "markdown",
   "metadata": {},
   "source": [
    "Boolean ist ein Datentyp, der nur zwei Werte annehmen kann: True oder False."
   ]
  },
  {
   "cell_type": "markdown",
   "metadata": {},
   "source": [
    "## Aufgabenteil C - Fallbeispiele mit Klassen und Objekten"
   ]
  },
  {
   "cell_type": "markdown",
   "metadata": {},
   "source": [
    "### Aufgabe C1 - Studierendenverwaltung"
   ]
  },
  {
   "cell_type": "code",
   "execution_count": 14,
   "metadata": {},
   "outputs": [],
   "source": [
    "# student.py\n",
    "\n",
    "class Student:\n",
    "    def __init__(self, name, studentId, averageMark):\n",
    "        self.name = name\n",
    "        self.studentId = studentId\n",
    "        self.averageMark = averageMark\n"
   ]
  },
  {
   "cell_type": "code",
   "execution_count": 17,
   "metadata": {},
   "outputs": [
    {
     "name": "stdout",
     "output_type": "stream",
     "text": [
      "1.5\n"
     ]
    }
   ],
   "source": [
    "# main.py\n",
    "students = [Student('Maxine Muster', 2, 1.0), Student('Bert Beispeil', 1, 2.0)]\n",
    "\n",
    "totalMark = 0.0\n",
    "\n",
    "for student in students:\n",
    "    totalMark += student.averageMark\n",
    "\n",
    "totalAverageMark = totalMark / len(students)\n",
    "\n",
    "print(totalAverageMark)\n"
   ]
  },
  {
   "cell_type": "markdown",
   "metadata": {},
   "source": [
    "### Aufgabe C2 - E-Auto Batterie"
   ]
  },
  {
   "cell_type": "code",
   "execution_count": 22,
   "metadata": {},
   "outputs": [],
   "source": [
    "# ecar.py\n",
    "\n",
    "class ECar:\n",
    "    def __init__(self, name, batteryCharge = 100):\n",
    "        self.name = name\n",
    "        self.batteryCharge = batteryCharge\n",
    "        # self.batteryCharge = max(0, min(100, batteryCharge))\n",
    "\n",
    "    def charge(self, amount):\n",
    "        if amount < 0:\n",
    "            print('Es ist kein Entladen möglich.')\n",
    "        \n",
    "        if self.batteryCharge + amount > 100:\n",
    "            self.batteryCharge = 100\n",
    "        else:\n",
    "            self.batteryCharge += amount\n",
    "\n",
    "        print('Aktueller Ladestand:', str(self.batteryCharge) + '%')\n",
    "\n",
    "    def drive(self, distance):\n",
    "        if distance < 0:\n",
    "            distance = distance * (-1)\n",
    "\n",
    "        if self.batteryCharge < distance:\n",
    "            print('Für diese Fahrt reicht die Batterie leider nicht. Bitte aufladen!')\n",
    "        \n",
    "        self.batteryCharge -= distance\n",
    "\n",
    "        if self.batteryCharge <= 10:\n",
    "            print('Achtung: Batterieladung nur noch', self.batteryCharge, '%')\n",
    "\n",
    "        print('Es wurden', str(distance), 'km zurückgelegt.')\n",
    "        print('Aktueller Ladestand:', str(self.batteryCharge) + '%')\n"
   ]
  },
  {
   "cell_type": "code",
   "execution_count": 23,
   "metadata": {},
   "outputs": [
    {
     "name": "stdout",
     "output_type": "stream",
     "text": [
      "Achtung: Batterieladung nur noch 8 %\n",
      "Es wurden 42 km zurückgelegt.\n",
      "Aktueller Ladestand: 8%\n",
      "Aktueller Ladestand: 18%\n",
      "Achtung: Batterieladung nur noch 8 %\n",
      "Es wurden 10 km zurückgelegt.\n",
      "Aktueller Ladestand: 8%\n"
     ]
    }
   ],
   "source": [
    "# main.py\n",
    "# from ecar import ECar         # importiert die Klasse ECar aus der Datei ecar.py\n",
    "\n",
    "ecar1 = ECar('Resla Toadster', 50)\n",
    "\n",
    "ecar1.drive(42)\n",
    "ecar1.charge(10)\n",
    "ecar1.drive(10)"
   ]
  }
 ],
 "metadata": {
  "kernelspec": {
   "display_name": "base",
   "language": "python",
   "name": "python3"
  },
  "language_info": {
   "codemirror_mode": {
    "name": "ipython",
    "version": 3
   },
   "file_extension": ".py",
   "mimetype": "text/x-python",
   "name": "python",
   "nbconvert_exporter": "python",
   "pygments_lexer": "ipython3",
   "version": "3.9.13"
  }
 },
 "nbformat": 4,
 "nbformat_minor": 2
}
