{
 "cells": [
  {
   "cell_type": "markdown",
   "metadata": {},
   "source": [
    "## Aufgabenteil A - Grundlagen"
   ]
  },
  {
   "cell_type": "markdown",
   "metadata": {},
   "source": [
    "### Aufgabe A1 - Hello World und Textausgabe"
   ]
  },
  {
   "cell_type": "code",
   "execution_count": 1,
   "metadata": {},
   "outputs": [
    {
     "name": "stdout",
     "output_type": "stream",
     "text": [
      "17.12.2021\n"
     ]
    }
   ],
   "source": [
    "# hello.py\n",
    "\n",
    "print(str(17)+'.'+str(12)+'.'+str(2021))"
   ]
  },
  {
   "cell_type": "markdown",
   "metadata": {},
   "source": [
    "### Aufgabenteil A2 - Datentypen und Typisierung"
   ]
  },
  {
   "cell_type": "code",
   "execution_count": 4,
   "metadata": {},
   "outputs": [],
   "source": [
    "# convert.py\n",
    "\n",
    "input = 1.7\n",
    "number_int = int(input)\n",
    "number_float = float(number_int)\n"
   ]
  },
  {
   "cell_type": "markdown",
   "metadata": {},
   "source": [
    "## Aufgabenteil B - Weiterführende Themen"
   ]
  },
  {
   "cell_type": "markdown",
   "metadata": {},
   "source": [
    "### Aufgabe B1 - Einfaches Rechnen und Datentypen"
   ]
  },
  {
   "cell_type": "code",
   "execution_count": 6,
   "metadata": {},
   "outputs": [
    {
     "name": "stdout",
     "output_type": "stream",
     "text": [
      "3.5\n"
     ]
    }
   ],
   "source": [
    "# calc.py\n",
    "\n",
    "input = 2.0\n",
    "\n",
    "result = (input**2)/2 + 1.5\n",
    "\n",
    "print(result)"
   ]
  },
  {
   "cell_type": "markdown",
   "metadata": {},
   "source": [
    "Das Ergebnis ist vom Datentyp Float, da die Division zweier Werte automatisch einen Float Wert ergibt."
   ]
  },
  {
   "cell_type": "markdown",
   "metadata": {},
   "source": [
    "### Aufgabe B2 - Textausgabe in Funktionen"
   ]
  },
  {
   "cell_type": "code",
   "execution_count": 13,
   "metadata": {},
   "outputs": [
    {
     "name": "stdout",
     "output_type": "stream",
     "text": [
      "Hallo Du!\n"
     ]
    }
   ],
   "source": [
    "# print.py\n",
    "\n",
    "input = \"Du!\"\n",
    "\n",
    "def print_text(text=\"\"):\n",
    "    output = \"Hallo \"+ text\n",
    "    print(output)\n",
    "\n",
    "print_text(input)"
   ]
  },
  {
   "cell_type": "markdown",
   "metadata": {},
   "source": [
    "### Aufgabe B3 - Rechnen mit Funktionen und Verzweigungen"
   ]
  },
  {
   "cell_type": "code",
   "execution_count": 14,
   "metadata": {},
   "outputs": [
    {
     "name": "stdout",
     "output_type": "stream",
     "text": [
      "2.0\n"
     ]
    }
   ],
   "source": [
    "# divide.py\n",
    "\n",
    "input1 = 2\n",
    "input2 = 1\n",
    "\n",
    "def divide(dividend, divisor):\n",
    "    if divisor == 0:\n",
    "        quotient = 0\n",
    "    else:\n",
    "        quotient = dividend / divisor\n",
    "    \n",
    "    return quotient\n",
    "\n",
    "print(divide(input1, input2))"
   ]
  },
  {
   "cell_type": "markdown",
   "metadata": {},
   "source": [
    "### Aufgabe B4 ‐ Textausgabe in einer Schleife mit Rechnen und Fallunterscheidung"
   ]
  },
  {
   "cell_type": "code",
   "execution_count": 16,
   "metadata": {},
   "outputs": [
    {
     "name": "stdout",
     "output_type": "stream",
     "text": [
      "Tag: 1\n",
      "Tage bis Silvester: 30\n",
      "Tag: 2\n",
      "Tage bis Silvester: 29\n",
      "Tag: 3\n",
      "Tage bis Silvester: 28\n",
      "Tag: 4\n",
      "Tage bis Silvester: 27\n",
      "Tag: 5\n",
      "Tage bis Silvester: 26\n",
      "Tag: 6\n",
      "Tage bis Silvester: 25\n",
      "Tag: 7\n",
      "Tage bis Silvester: 24\n",
      "Tag: 8\n",
      "Tage bis Silvester: 23\n",
      "Tag: 9\n",
      "Tage bis Silvester: 22\n",
      "Tag: 10\n",
      "Tage bis Silvester: 21\n",
      "Tag: 11\n",
      "Tage bis Silvester: 20\n",
      "Tag: 12\n",
      "Tage bis Silvester: 19\n",
      "Tag: 13\n",
      "Tage bis Silvester: 18\n",
      "Tag: 14\n",
      "Tage bis Silvester: 17\n",
      "Tag: 15\n",
      "Tage bis Silvester: 16\n",
      "Tag: 16\n",
      "Tage bis Silvester: 15\n",
      "Tag: 17\n",
      "Tage bis Silvester: 14\n",
      "Tag: 18\n",
      "Tage bis Silvester: 13\n",
      "Tag: 19\n",
      "Tage bis Silvester: 12\n",
      "Tag: 20\n",
      "Tage bis Silvester: 11\n",
      "Tag: 21\n",
      "Tage bis Silvester: 10\n",
      "Tag: 22\n",
      "Tage bis Silvester: 9\n",
      "Tag: 23\n",
      "Tage bis Silvester: 8\n",
      "Tag: 24\n",
      "Tage bis Silvester: 7\n",
      "Hurra, Urlaub!\n",
      "Tag: 25\n",
      "Tage bis Silvester: 6\n",
      "Hurra, Urlaub!\n",
      "Tag: 26\n",
      "Tage bis Silvester: 5\n",
      "Hurra, Urlaub!\n",
      "Tag: 27\n",
      "Tage bis Silvester: 4\n",
      "Hurra, Urlaub!\n",
      "Tag: 28\n",
      "Tage bis Silvester: 3\n",
      "Hurra, Urlaub!\n",
      "Tag: 29\n",
      "Tage bis Silvester: 2\n",
      "Hurra, Urlaub!\n",
      "Tag: 30\n",
      "Tage bis Silvester: 1\n",
      "Hurra, Urlaub!\n",
      "Tag: 31\n",
      "Tage bis Silvester: 0\n",
      "Hurra, Urlaub!\n"
     ]
    }
   ],
   "source": [
    "# countdown.py\n",
    "\n",
    "def countdown(day):\n",
    "    print(\"Tag:\",day)\n",
    "    print(\"Tage bis Silvester:\",31-day)\n",
    "    if day >= 24:\n",
    "        print(\"Hurra, Urlaub!\")\n",
    "\n",
    "for i in range(1,32):\n",
    "    countdown(i)"
   ]
  },
  {
   "cell_type": "markdown",
   "metadata": {},
   "source": [
    "## Aufgabenteil C - Fallbeispiele mit Klassen und Objekten"
   ]
  },
  {
   "cell_type": "markdown",
   "metadata": {},
   "source": [
    "### Aufgabe C1 - Fallbeispiel Test-Verwaltung"
   ]
  },
  {
   "cell_type": "code",
   "execution_count": 19,
   "metadata": {},
   "outputs": [],
   "source": [
    "# test.py\n",
    "\n",
    "name1 = \"Maxine Muster\"\n",
    "studentID1 = \"1\"\n",
    "test1_1 = False\n",
    "test1_2 = True\n",
    "\n",
    "name2 = \"Bert Beispiel\"\n",
    "studentID2 = \"2\"\n",
    "test2 = False\n",
    "\n",
    "class Student:\n",
    "    def __init__(self, name, studentId):\n",
    "        self.name = name\n",
    "        self.studentId = studentId\n",
    "        self.tests = []\n",
    "\n",
    "    def info(self):\n",
    "       if True in self.tests:\n",
    "           return True\n",
    "       else:\n",
    "            return False\n",
    "\n",
    "class Test:\n",
    "    def __init__(self, testID, result):\n",
    "        self.testID = testID\n",
    "        self.result = result\n",
    "\n",
    "\n",
    "\n",
    "\n",
    "student1 = Student(name1, studentID1)\n",
    "student1.tests.append(test1_1)\n",
    "student1.tests.append(test1_2)\n",
    "\n",
    "student2 = Student(name2, studentID2)\n",
    "student2.tests.append(test2)"
   ]
  },
  {
   "cell_type": "code",
   "execution_count": 23,
   "metadata": {},
   "outputs": [
    {
     "name": "stdout",
     "output_type": "stream",
     "text": [
      "Maxine Muster: True\n",
      "Bert Beispiel: False\n"
     ]
    }
   ],
   "source": [
    "print(student1.name + \":\", student1.info())\n",
    "print(student2.name + \":\", student2.info())\n"
   ]
  },
  {
   "cell_type": "markdown",
   "metadata": {},
   "source": [
    "### Aufgabe C2 - Fallbeispiel Digital Twin"
   ]
  },
  {
   "cell_type": "code",
   "execution_count": 35,
   "metadata": {},
   "outputs": [],
   "source": [
    "# testdrive.py\n",
    "\n",
    "class Car:\n",
    "    def __init__(self, name, battery, odometer = 0):\n",
    "        self.name = name\n",
    "        self.odometer = odometer\n",
    "        self.battery = battery\n",
    "    \n",
    "    def charge(self, amount):\n",
    "        for battery_cell in self.battery.cells:\n",
    "            if battery_cell.charge + amount >= 0 and battery_cell.charge + amount <= 100:\n",
    "                battery_cell.charge += amount\n",
    "            elif battery_cell.charge + amount > 100:\n",
    "                battery_cell.charge = 100\n",
    "            else:\n",
    "                print(\"Laden nicht möglich\")\n",
    "\n",
    "    def drive(self, distance):\n",
    "        self.odometer += distance\n",
    "        for battery_cell in self.battery.cells:\n",
    "            battery_cell.charge -= distance\n",
    "\n",
    "    def info(self):\n",
    "        print(\"Kilometerstand:\", self.odometer)\n",
    "        for battery_cell in self.battery.cells:\n",
    "            print(\"Ladestand:\", battery_cell.charge)\n",
    "\n",
    "class Battery:\n",
    "    def __init__(self):\n",
    "        self.cells = [BatteryCell(), BatteryCell(), BatteryCell(), BatteryCell()]\n",
    "\n",
    "class BatteryCell:\n",
    "    def __init__(self, charge=100.0):\n",
    "        self.charge = charge"
   ]
  },
  {
   "cell_type": "code",
   "execution_count": 36,
   "metadata": {},
   "outputs": [
    {
     "name": "stdout",
     "output_type": "stream",
     "text": [
      "Kilometerstand: 0\n",
      "Ladestand: 100.0\n",
      "Ladestand: 100.0\n",
      "Ladestand: 100.0\n",
      "Ladestand: 100.0\n"
     ]
    }
   ],
   "source": [
    "name = \"Torsche Paycan\"\n",
    "distance1 = 10\n",
    "distance2 = -1\n",
    "\n",
    "car = Car(name, Battery())\n",
    "\n",
    "car.info()"
   ]
  },
  {
   "cell_type": "code",
   "execution_count": 37,
   "metadata": {},
   "outputs": [
    {
     "name": "stdout",
     "output_type": "stream",
     "text": [
      "Kilometerstand: 10\n",
      "Ladestand: 90.0\n",
      "Ladestand: 90.0\n",
      "Ladestand: 90.0\n",
      "Ladestand: 90.0\n"
     ]
    }
   ],
   "source": [
    "car.drive(distance1)\n",
    "\n",
    "car.info()"
   ]
  },
  {
   "cell_type": "code",
   "execution_count": 39,
   "metadata": {},
   "outputs": [
    {
     "name": "stdout",
     "output_type": "stream",
     "text": [
      "Kilometerstand: 8\n",
      "Ladestand: 92.0\n",
      "Ladestand: 92.0\n",
      "Ladestand: 92.0\n",
      "Ladestand: 92.0\n"
     ]
    }
   ],
   "source": [
    "car.drive(distance2)\n",
    "\n",
    "car.info()"
   ]
  }
 ],
 "metadata": {
  "kernelspec": {
   "display_name": "base",
   "language": "python",
   "name": "python3"
  },
  "language_info": {
   "codemirror_mode": {
    "name": "ipython",
    "version": 3
   },
   "file_extension": ".py",
   "mimetype": "text/x-python",
   "name": "python",
   "nbconvert_exporter": "python",
   "pygments_lexer": "ipython3",
   "version": "3.9.13"
  }
 },
 "nbformat": 4,
 "nbformat_minor": 2
}
