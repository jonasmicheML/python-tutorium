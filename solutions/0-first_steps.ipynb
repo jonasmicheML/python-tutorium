{
 "cells": [
  {
   "cell_type": "markdown",
   "metadata": {},
   "source": [
    "## Markdown Guide for Jupyter Notebook\n",
    "\n",
    "Markdown is a simple and popular markup language that can be used in Jupyter Notebooks to format text and documentation. Here are some basic Markdown elements you can use in your tutorial:\n",
    "\n",
    "### Headings\n",
    "\n",
    "You can create headings using \"#\" where \"#\" represents the heading level (from 1 to 6). For example:\n",
    "\n",
    "\n"
   ]
  },
  {
   "cell_type": "markdown",
   "metadata": {},
   "source": [
    "Markdown-Code:\n",
    "```\n",
    "# Heading 1\n",
    "## Heading 2\n",
    "### Heading 3\n",
    "```"
   ]
  },
  {
   "cell_type": "markdown",
   "metadata": {},
   "source": [
    "### Text Formatting\n",
    "\n",
    "You can format text as bold, italic, or strikethrough:"
   ]
  },
  {
   "cell_type": "markdown",
   "metadata": {},
   "source": [
    "**Bold:** Use double asterisks \"**\" or double underscores \"__\".\n",
    "  For example: **This text is bold** or __This text is bold__.\n",
    "\n",
    "Markdown Code:\n",
    "\n",
    "```\n",
    "**This text is bold** oder __This text is bold__\n",
    "```"
   ]
  },
  {
   "cell_type": "markdown",
   "metadata": {},
   "source": [
    "*Italic:* Use a single asterisk \"*\" or a single underscore \"_\".\n",
    "  For example: *This text is italic* or _This text is italic_.\n",
    "\n",
    "Markdown Code:\n",
    "```\n",
    "*This text is italic* oder _This text is italic_\n",
    "```"
   ]
  },
  {
   "cell_type": "markdown",
   "metadata": {},
   "source": [
    "Strikethrough: Use double tildes \"~~\".\n",
    "  For example: ~~This text is strikethrough~~.\n",
    "\n",
    "Markdown Code:\n",
    "\n",
    "```\n",
    "~~This text is strikethrough~~\n",
    "```"
   ]
  },
  {
   "cell_type": "markdown",
   "metadata": {},
   "source": [
    "### Lists\n",
    "\n",
    "You can create unordered lists using \"-\" or \"*\":\n",
    "\n",
    "- First\n",
    "- Second\n",
    "- Third"
   ]
  },
  {
   "cell_type": "markdown",
   "metadata": {},
   "source": [
    "Markdown-Code:\n",
    "```\n",
    "- First\n",
    "- Second\n",
    "- Third\n",
    "```"
   ]
  },
  {
   "cell_type": "markdown",
   "metadata": {},
   "source": [
    "There are still numerous other features, such as links, images, or tables. You can find a comprehensive overview in the [Markdown documentation](https://markdown.de/).\n"
   ]
  },
  {
   "cell_type": "markdown",
   "metadata": {},
   "source": [
    "<br>"
   ]
  },
  {
   "cell_type": "markdown",
   "metadata": {},
   "source": [
    "---"
   ]
  },
  {
   "cell_type": "markdown",
   "metadata": {},
   "source": [
    "## Python Code (in Notebooks)\n",
    "\n",
    "The code is executed in individual cells one after the other. Those cells are independet from each other, but variables are stored in the kernal and can be used in other cells. If you want to execute a cell, you can click on the \"Run\" button in the toolbar or use the shortcut \"Shift + Enter\" or \"Strg + Enter\"."
   ]
  },
  {
   "cell_type": "code",
   "execution_count": 3,
   "metadata": {},
   "outputs": [
    {
     "name": "stdout",
     "output_type": "stream",
     "text": [
      "Hello World\n"
     ]
    }
   ],
   "source": [
    "print(\"Hello World\")"
   ]
  },
  {
   "cell_type": "code",
   "execution_count": 9,
   "metadata": {},
   "outputs": [],
   "source": [
    "x = 1"
   ]
  },
  {
   "cell_type": "code",
   "execution_count": 10,
   "metadata": {},
   "outputs": [
    {
     "name": "stdout",
     "output_type": "stream",
     "text": [
      "1\n"
     ]
    }
   ],
   "source": [
    "print(x)"
   ]
  },
  {
   "cell_type": "code",
   "execution_count": 11,
   "metadata": {},
   "outputs": [],
   "source": [
    "x = 2"
   ]
  },
  {
   "cell_type": "markdown",
   "metadata": {},
   "source": [
    "When you call `print(x)` after `x = 2` has been executed, the value `2` is now stored in the variable `x` and will be printed."
   ]
  },
  {
   "cell_type": "markdown",
   "metadata": {},
   "source": [
    "---"
   ]
  },
  {
   "cell_type": "markdown",
   "metadata": {},
   "source": [
    "## Verison Control with Git"
   ]
  },
  {
   "cell_type": "markdown",
   "metadata": {},
   "source": [
    "### What is Version Control?\n",
    "\n",
    "Version control is a system that helps you manage changes to your code or any other type of files. It allows multiple people to collaborate on a project, keep track of changes over time, and revert to previous versions when needed. One of the most popular version control systems is Git."
   ]
  },
  {
   "cell_type": "markdown",
   "metadata": {},
   "source": [
    "### Why Use Version Control?\n",
    "\n",
    "1. **Collaboration:** It enables multiple people to work on a project simultaneously without conflicts.\n",
    "2. **History:** You can track changes, see who made them, and when they were made.\n",
    "3. **Backup:** Your work is stored in a safe place, reducing the risk of data loss.\n",
    "4. **Branching:** You can work on new features or bug fixes without affecting the main codebase.\n",
    "5. **Revert:** If something goes wrong, you can easily revert to a previous, working state."
   ]
  },
  {
   "cell_type": "markdown",
   "metadata": {},
   "source": [
    "### Installing Git\n",
    "\n",
    "To use Git, you need to install it on your computer. Visit [Git Downloads](https://git-scm.com/downloads) and download the appropriate version for your operating system."
   ]
  },
  {
   "cell_type": "markdown",
   "metadata": {},
   "source": [
    "### Basic Git Commands\n",
    "All the commands below are executed in the command line. You have to navigate to your project's directory first. \n",
    "\n",
    "1. **Initializing a Git Repository:**\n",
    "   - To start version controlling a project, navigate to your project's directory and run the following command or do it via [GitHub](https://github.com/) or [GitLab](https://about.gitlab.com/):\n",
    "   \n",
    "   ```bash\n",
    "   git init\n",
    "   \n",
    "2. **Checking the Status:**\n",
    "   - To see which files have been modified and are ready to be committed, use:\n",
    "   \n",
    "   ```bash\n",
    "   git status\n",
    "\n",
    "3. **Adding Files to the Staging Area:**\n",
    "   - Before commiting changes, you need to add the files to the staging area. This step is important because it allows you to selectively include changes in the next commit. When you \"add\" a file, you are telling Git to include the changes in that file in the next commit. This allows you to group related changes together in a commit.\n",
    "      \n",
    "   ```bash\n",
    "   git add <file>       # add a specific file\n",
    "   git add .            # add all files in qurrent directory \n",
    "\n",
    "4. **Commiting Changes:**\n",
    "   - Once files are in the staging area, you can commit your changes with a descriptive message. A commit is a snapshot of the changes you've made. It records the state of your project at a specific point in time. The key difference between \"adding\" and \"committing\" is that adding stages the changes you want to include in the next commit, while committing records these changes in your project's history. Commits are like checkpoints in your project's timeline, making it easier to track and manage changes over time.\n",
    "   \n",
    "   ```bash\n",
    "   git commit -m \"Your commit message\"\n",
    "\n",
    "\n",
    "5. **Viewing the Commit History:**\n",
    "   - To see a list of all commits, use:\n",
    "   \n",
    "   ```bash\n",
    "   git log\n",
    "\n",
    "6. **Creating a Branch:**\n",
    "   - To work on a new feature or bug fix without affecting the main code, create a new branch:\n",
    "      \n",
    "   ```bash\n",
    "   git branch <branch-name>\n",
    "\n",
    "7. **Switching Branches:**\n",
    "   - To switch to a different branch, use:\n",
    "   \n",
    "   ```bash\n",
    "   git checkout <branch-name>\n",
    "\n",
    "8. **Merging Branches:**\n",
    "   - When you're done with your new feature, you can merge it back into the main code:\n",
    "      \n",
    "   ```bash\n",
    "   git merge <branch-name>\n",
    "\n",
    "9. **Pulling and Pushing:**\n",
    "   - When working with remote repositories (like on GitHub or GitLab), you can pull changes from a remote repository:\n",
    "         \n",
    "   ```bash\n",
    "   git pull\n",
    "   ```\t\n",
    "\n",
    "   - To push your local changes to a remote repository, use:\n",
    "   \n",
    "   ```bash\n",
    "   git push\n",
    "\n",
    "10. **Reverting Changes:**\n",
    "      - To revert a commit, use the following command. This is a safer method to undo changes, as it creates a new commit that reverts the changes of the specified commit (If you want to completely remove a commit from the history, you can use `git reset <commit-hash>` instead):\n",
    "      \n",
    "      ```bash\n",
    "      git revert <commit-hash>\n",
    "      ```\t\n",
    "\n",
    "      - This is a safe method to undo changes, as it creates a new commit that reverts the changes of the specified commit. If you want to completely remove a commit from the history, use:\n",
    "      \n",
    "      ```bash\n",
    "      git reset <commit-hash>\n",
    "      ```\t\n",
    "\n",
    "11. **Cloning a Repository:**\n",
    "      - To clone a remote repository to your local machine, use:\n",
    "      \n",
    "      ```bash\n",
    "      git clone <url>"
   ]
  },
  {
   "cell_type": "markdown",
   "metadata": {},
   "source": [
    "---"
   ]
  },
  {
   "cell_type": "markdown",
   "metadata": {},
   "source": [
    "## Useful Links\n",
    "\n",
    "\n",
    "- [Python Dokumentation](https://docs.python.org/3/)\n",
    "- [Python: w3-School](https://www.w3schools.com/python/)\n",
    "- [Python Cheat Sheet](https://www.pythoncheatsheet.org/)\n",
    "\n",
    "\n",
    "- debugging: [Stackoverflow](https://stackoverflow.com/) \n",
    "- blog articles: [Medium](https://medium.com/)\n",
    "- [Jupyter Notebooks Documentation](https://jupyter-notebook.readthedocs.io/)\n",
    "- [Git Documentation](https://git-scm.com/doc)\n",
    "- [ChatGPT](https://www.openai.com/blog/chatgpt-plugins/)\n",
    "- [CoPilot](https://copilot.github.com/)\n",
    "\n"
   ]
  }
 ],
 "metadata": {
  "kernelspec": {
   "display_name": "data-science_dublin",
   "language": "python",
   "name": "python3"
  },
  "language_info": {
   "codemirror_mode": {
    "name": "ipython",
    "version": 3
   },
   "file_extension": ".py",
   "mimetype": "text/x-python",
   "name": "python",
   "nbconvert_exporter": "python",
   "pygments_lexer": "ipython3",
   "version": "3.9.13"
  },
  "orig_nbformat": 4
 },
 "nbformat": 4,
 "nbformat_minor": 2
}
