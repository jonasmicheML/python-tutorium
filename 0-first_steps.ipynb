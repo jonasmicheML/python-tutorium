{
 "cells": [
  {
   "cell_type": "markdown",
   "metadata": {},
   "source": [
    "## Markdown-Anleitung für Jupyter Notebook\n",
    "\n",
    "Markdown ist eine einfache und beliebte Markup-Sprache, die in Jupyter Notebooks verwendet werden kann, um Text und Dokumentation zu formatieren. Hier sind einige grundlegende Markdown-Elemente, die Sie in Ihrem Tutorial verwenden können:\n",
    "\n",
    "### Überschriften\n",
    "\n",
    "Sie können Überschriften mit \"#\" erstellen, wobei \"#\" für die Überschriftenstufe steht (von 1 bis 6). Zum Beispiel:\n",
    "\n"
   ]
  },
  {
   "cell_type": "markdown",
   "metadata": {},
   "source": [
    "Markdown-Code:\n",
    "```\n",
    "# Überschrift 1\n",
    "## Überschrift 2\n",
    "### Überschrift 3\n",
    "```"
   ]
  },
  {
   "cell_type": "markdown",
   "metadata": {},
   "source": [
    "### Textformatierung\n",
    "\n",
    "Sie können Text fett, kursiv oder durchgestrichen formatieren:"
   ]
  },
  {
   "cell_type": "markdown",
   "metadata": {},
   "source": [
    "\n",
    "\n",
    "Fett: Verwenden Sie doppelte Sternchen \"**\" oder doppelte Unterstriche \"__\".\n",
    "  Zum Beispiel: **Dieser Text ist fett** oder __Dieser Text ist fett__.\n",
    "\n",
    "Markdown-Code:\n",
    "```\n",
    "**Dieser Text ist fett** oder __Dieser Text ist fett__\n",
    "```"
   ]
  },
  {
   "cell_type": "markdown",
   "metadata": {},
   "source": [
    "Kursiv: Verwenden Sie ein einzelnes Sternchen \"*\" oder ein einzelnes Unterstrich \"_\".\n",
    "  Zum Beispiel: *Dieser Text ist kursiv* oder _Dieser Text ist kursiv_.\n",
    "\n",
    "  Markdown-Code:\n",
    "```\n",
    "*Dieser Text ist kursiv* oder _Dieser Text ist kursiv_\n",
    "```"
   ]
  },
  {
   "cell_type": "markdown",
   "metadata": {},
   "source": [
    "Durchgestrichen: Verwenden Sie doppelte Tilden \"~~\".\n",
    "  Zum Beispiel: ~~Dieser Text ist durchgestrichen~~.\n",
    "\n",
    "  Markdown-Code:\n",
    "```\n",
    "~~Dieser Text ist durchgestrichen~~\n",
    "```"
   ]
  },
  {
   "cell_type": "markdown",
   "metadata": {},
   "source": [
    "### Listen\n",
    "\n",
    "Sie können ungeordnete Listen mit \"-\" oder \"*\" erstellen\n",
    "\n",
    "- Erstens\n",
    "- Zweitens\n",
    "- Drittens"
   ]
  },
  {
   "cell_type": "markdown",
   "metadata": {},
   "source": [
    "Markdown-Code:\n",
    "```\n",
    "- Erstens\n",
    "- Zweitens\n",
    "- Drittens\n",
    "```"
   ]
  },
  {
   "cell_type": "markdown",
   "metadata": {},
   "source": [
    "Es gibt noch zahlreiche weitere Funktionen, zum Beispiel Links, Bilder oder Tabellen. Eine gute Übersicht finden Ihr in der [Markdown Dokumentation](https://markdown.de/)."
   ]
  },
  {
   "cell_type": "markdown",
   "metadata": {},
   "source": [
    "<br>"
   ]
  },
  {
   "cell_type": "markdown",
   "metadata": {},
   "source": [
    "## Python Code\n",
    "\n",
    "Der Code wird in einzelnen Zellen nacheinander ausgeführt."
   ]
  },
  {
   "cell_type": "code",
   "execution_count": 8,
   "metadata": {},
   "outputs": [
    {
     "name": "stdout",
     "output_type": "stream",
     "text": [
      "Hello World\n"
     ]
    }
   ],
   "source": [
    "print(\"Hello World\")"
   ]
  },
  {
   "cell_type": "code",
   "execution_count": 9,
   "metadata": {},
   "outputs": [],
   "source": [
    "x = 1"
   ]
  },
  {
   "cell_type": "code",
   "execution_count": 10,
   "metadata": {},
   "outputs": [
    {
     "name": "stdout",
     "output_type": "stream",
     "text": [
      "1\n"
     ]
    }
   ],
   "source": [
    "print(x)"
   ]
  },
  {
   "cell_type": "code",
   "execution_count": 11,
   "metadata": {},
   "outputs": [],
   "source": [
    "x = 2"
   ]
  },
  {
   "cell_type": "markdown",
   "metadata": {},
   "source": [
    "Wenn man `print(x)` aufruft, nachdem `x = 2` ausgeführt wurde, ist nun der Wert 2 in der Variable x gespeichert und wird ausgegeben.\n"
   ]
  }
 ],
 "metadata": {
  "kernelspec": {
   "display_name": "data-science_dublin",
   "language": "python",
   "name": "python3"
  },
  "language_info": {
   "codemirror_mode": {
    "name": "ipython",
    "version": 3
   },
   "file_extension": ".py",
   "mimetype": "text/x-python",
   "name": "python",
   "nbconvert_exporter": "python",
   "pygments_lexer": "ipython3",
   "version": "3.9.16"
  },
  "orig_nbformat": 4
 },
 "nbformat": 4,
 "nbformat_minor": 2
}
