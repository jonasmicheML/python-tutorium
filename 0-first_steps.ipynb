{
 "cells": [
  {
   "cell_type": "markdown",
   "metadata": {},
   "source": [
    "## Markdown Guide for Jupyter Notebook\n",
    "\n",
    "Markdown is a simple and popular markup language that can be used in Jupyter Notebooks to format text and documentation. Here are some basic Markdown elements you can use in your tutorial:\n",
    "\n",
    "### Headings\n",
    "\n",
    "You can create headings using \"#\" where \"#\" represents the heading level (from 1 to 6). For example:\n",
    "\n",
    "\n"
   ]
  },
  {
   "cell_type": "markdown",
   "metadata": {},
   "source": [
    "Markdown-Code:\n",
    "```\n",
    "# Heading 1\n",
    "## Heading 2\n",
    "### Heading 3\n",
    "```"
   ]
  },
  {
   "cell_type": "markdown",
   "metadata": {},
   "source": [
    "### Text Formatting\n",
    "\n",
    "You can format text as bold, italic, or strikethrough:"
   ]
  },
  {
   "cell_type": "markdown",
   "metadata": {},
   "source": [
    "**Bold:** Use double asterisks \"**\" or double underscores \"__\".\n",
    "  For example: **This text is bold** or __This text is bold__.\n",
    "\n",
    "Markdown Code:\n",
    "\n",
    "```\n",
    "**This text is bold** oder __This text is bold__\n",
    "```"
   ]
  },
  {
   "cell_type": "markdown",
   "metadata": {},
   "source": [
    "*Italic:* Use a single asterisk \"*\" or a single underscore \"_\".\n",
    "  For example: *This text is italic* or _This text is italic_.\n",
    "\n",
    "Markdown Code:\n",
    "```\n",
    "*This text is italic* oder _This text is italic_\n",
    "```"
   ]
  },
  {
   "cell_type": "markdown",
   "metadata": {},
   "source": [
    "Strikethrough: Use double tildes \"~~\".\n",
    "  For example: ~~This text is strikethrough~~.\n",
    "\n",
    "Markdown Code:\n",
    "\n",
    "```\n",
    "~~This text is strikethrough~~\n",
    "```"
   ]
  },
  {
   "cell_type": "markdown",
   "metadata": {},
   "source": [
    "### Lists\n",
    "\n",
    "You can create unordered lists using \"-\" or \"*\":\n",
    "\n",
    "- First\n",
    "- Second\n",
    "- Third"
   ]
  },
  {
   "cell_type": "markdown",
   "metadata": {},
   "source": [
    "Markdown-Code:\n",
    "```\n",
    "- First\n",
    "- Second\n",
    "- Third\n",
    "```"
   ]
  },
  {
   "cell_type": "markdown",
   "metadata": {},
   "source": [
    "There are still numerous other features, such as links, images, or tables. You can find a comprehensive overview in the [Markdown documentation](https://markdown.de/).\n"
   ]
  },
  {
   "cell_type": "markdown",
   "metadata": {},
   "source": [
    "<br>"
   ]
  },
  {
   "cell_type": "markdown",
   "metadata": {},
   "source": [
    "## Python Code\n",
    "\n",
    "The code is executed in individual cells one after the other.\n"
   ]
  },
  {
   "cell_type": "code",
   "execution_count": 8,
   "metadata": {},
   "outputs": [
    {
     "name": "stdout",
     "output_type": "stream",
     "text": [
      "Hello World\n"
     ]
    }
   ],
   "source": [
    "print(\"Hello World\")"
   ]
  },
  {
   "cell_type": "code",
   "execution_count": 9,
   "metadata": {},
   "outputs": [],
   "source": [
    "x = 1"
   ]
  },
  {
   "cell_type": "code",
   "execution_count": 10,
   "metadata": {},
   "outputs": [
    {
     "name": "stdout",
     "output_type": "stream",
     "text": [
      "1\n"
     ]
    }
   ],
   "source": [
    "print(x)"
   ]
  },
  {
   "cell_type": "code",
   "execution_count": 11,
   "metadata": {},
   "outputs": [],
   "source": [
    "x = 2"
   ]
  },
  {
   "cell_type": "markdown",
   "metadata": {},
   "source": [
    "When you call `print(x)` after `x = 2` has been executed, the value `2` is now stored in the variable `x` and will be printed."
   ]
  },
  {
   "cell_type": "markdown",
   "metadata": {},
   "source": [
    "<br>"
   ]
  },
  {
   "cell_type": "markdown",
   "metadata": {},
   "source": [
    "## Useful Links\n",
    "\n",
    "\n",
    "- [Python Dokumentation](https://docs.python.org/3/)\n",
    "- [Python: w3-School](https://www.w3schools.com/python/)\n",
    "- [Python Cheat Sheet](https://www.pythoncheatsheet.org/)\n",
    "\n",
    "\n",
    "- debugging: [Stackoverflow](https://stackoverflow.com/) \n",
    "- blog articles: [Medium](https://medium.com/)\n",
    "- [Jupyter Notebooks Documentation](https://jupyter-notebook.readthedocs.io/)\n",
    "- [Git Documentation](https://git-scm.com/doc)\n",
    "- [ChatGPT](https://www.openai.com/blog/chatgpt-plugins/)\n",
    "- [CoPilot](https://copilot.github.com/)\n",
    "\n"
   ]
  }
 ],
 "metadata": {
  "kernelspec": {
   "display_name": "data-science_dublin",
   "language": "python",
   "name": "python3"
  },
  "language_info": {
   "codemirror_mode": {
    "name": "ipython",
    "version": 3
   },
   "file_extension": ".py",
   "mimetype": "text/x-python",
   "name": "python",
   "nbconvert_exporter": "python",
   "pygments_lexer": "ipython3",
   "version": "3.9.16"
  },
  "orig_nbformat": 4
 },
 "nbformat": 4,
 "nbformat_minor": 2
}
