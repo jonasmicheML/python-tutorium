{
 "cells": [
  {
   "cell_type": "markdown",
   "metadata": {},
   "source": [
    "# Object-Oriented Programming (OOP)\n",
    "\n",
    "### Basics\n",
    "\n",
    "Object-Oriented Programming is a programming paradigm that revolves around the concept of \"objects.\" An object is a self-contained unit that consists of both data and the methods that operate on the data.\n",
    "\n",
    "### Key Concepts\n",
    "\n",
    "#### **Class:**\n",
    "- A blueprint or template for creating objects.\n",
    "- Defines the properties (attributes) and behaviors (methods) that objects of the class will have.\n",
    "- With functions and actions that can be performed.\n"
   ]
  },
  {
   "cell_type": "code",
   "execution_count": 64,
   "metadata": {},
   "outputs": [],
   "source": [
    "# Definition of the Car class\n",
    "class Car:\n",
    "    # Constructor method, called when creating a new Car object\n",
    "    def __init__(self, brand, color):\n",
    "        self.brand = brand\n",
    "        self.color = color\n",
    "        self.is_started = False\n",
    "\n",
    "    # Method to start the car\n",
    "    def start(self):\n",
    "        if not self.is_started:\n",
    "            print(f\"The {self.color} {self.brand} is starting.\")\n",
    "            self.is_started = True\n",
    "        else:\n",
    "            print(\"The car is already started.\")\n",
    "\n",
    "    # Method to stop the car\n",
    "    def stop(self):\n",
    "        if self.is_started:\n",
    "            print(f\"The {self.color} {self.brand} is stopping.\")\n",
    "            self.is_started = False\n",
    "        else:\n",
    "            print(\"The car is already stopped.\")\n",
    "\n",
    "    def get_color(self):\n",
    "        return self.color\n",
    "    \n",
    "    def set_color(self, color):\n",
    "        self.color = color\n",
    "\n",
    "    # Method to check if the car is currently started\n",
    "    def is_car_started(self):\n",
    "        return self.is_started"
   ]
  },
  {
   "cell_type": "markdown",
   "metadata": {},
   "source": [
    "#### Object:\n",
    "- Instance of a class.\n",
    "- Has its own state, behavior, and identity.\n",
    "- Each object can have different values for the same attributes defined in the class."
   ]
  },
  {
   "cell_type": "code",
   "execution_count": 65,
   "metadata": {},
   "outputs": [],
   "source": [
    "# object 1\n",
    "car1 = Car(\"Toyota\", \"Blue\")\n",
    "# object 2\n",
    "car2 = Car(\"BMW\", \"Red\")"
   ]
  },
  {
   "cell_type": "markdown",
   "metadata": {},
   "source": [
    "#### Actions (Methods) on the Object:"
   ]
  },
  {
   "cell_type": "code",
   "execution_count": 66,
   "metadata": {},
   "outputs": [
    {
     "name": "stdout",
     "output_type": "stream",
     "text": [
      "The Blue Toyota is starting.\n",
      "Is car1 started? True\n",
      "The Blue Toyota is stopping.\n",
      "Is car1 started? False\n"
     ]
    }
   ],
   "source": [
    "car1.start()\n",
    "print(f\"Is car1 started? {car1.is_car_started()}\")\n",
    "car1.stop()\n",
    "print(f\"Is car1 started? {car1.is_car_started()}\")"
   ]
  },
  {
   "cell_type": "code",
   "execution_count": 67,
   "metadata": {},
   "outputs": [
    {
     "name": "stdout",
     "output_type": "stream",
     "text": [
      "The Red BMW is starting.\n",
      "Is car2 started? True\n",
      "The Red BMW is stopping.\n"
     ]
    }
   ],
   "source": [
    "car2.start()\n",
    "print(f\"Is car2 started? {car2.is_car_started()}\")\n",
    "car2.stop()"
   ]
  },
  {
   "cell_type": "markdown",
   "metadata": {},
   "source": [
    "#### Use Getter and Setter"
   ]
  },
  {
   "cell_type": "code",
   "execution_count": 70,
   "metadata": {},
   "outputs": [
    {
     "data": {
      "text/plain": [
       "'Blue'"
      ]
     },
     "execution_count": 70,
     "metadata": {},
     "output_type": "execute_result"
    }
   ],
   "source": [
    "car1.get_color()"
   ]
  },
  {
   "cell_type": "code",
   "execution_count": 73,
   "metadata": {},
   "outputs": [
    {
     "data": {
      "text/plain": [
       "'Red'"
      ]
     },
     "execution_count": 73,
     "metadata": {},
     "output_type": "execute_result"
    }
   ],
   "source": [
    "car1.set_color(\"Red\")\n",
    "car1.get_color()"
   ]
  },
  {
   "cell_type": "code",
   "execution_count": 75,
   "metadata": {},
   "outputs": [
    {
     "name": "stdout",
     "output_type": "stream",
     "text": [
      "The Red Toyota is starting.\n"
     ]
    }
   ],
   "source": [
    "car1.start()"
   ]
  },
  {
   "cell_type": "markdown",
   "metadata": {},
   "source": [
    "### Benefits of OOP\n",
    "- Modularity: Code is divided into smaller, manageable parts.\n",
    "- Reusability: Classes and objects can be reused in different parts of the program.\n",
    "- Flexibility: Easy to modify and extend existing code.\n",
    "- Readability: OOP code is often more readable and understandable.\n",
    "\n",
    "In summary, Object-Oriented Programming provides a structured way to design and organize code by modeling real-world entities using classes and objects."
   ]
  },
  {
   "cell_type": "markdown",
   "metadata": {},
   "source": [
    "## Tasks"
   ]
  },
  {
   "cell_type": "markdown",
   "metadata": {},
   "source": [
    "**Task 1:** create a class called `Person` with the following attributes: `name`, `age`, `gender`, `height`, `weight`, `hair_color`"
   ]
  },
  {
   "cell_type": "code",
   "execution_count": 68,
   "metadata": {},
   "outputs": [],
   "source": [
    "# your code\n",
    "\n"
   ]
  },
  {
   "cell_type": "markdown",
   "metadata": {},
   "source": [
    "**Task 2:** add a describe function to the `Person` class that prints the name and age of the person. (Hint: Copy and paste the code from the previous task)"
   ]
  },
  {
   "cell_type": "code",
   "execution_count": 69,
   "metadata": {},
   "outputs": [],
   "source": [
    "# your code\n",
    "\n"
   ]
  },
  {
   "cell_type": "code",
   "execution_count": null,
   "metadata": {},
   "outputs": [],
   "source": [
    "import "
   ]
  }
 ],
 "metadata": {
  "kernelspec": {
   "display_name": "python-tut",
   "language": "python",
   "name": "python3"
  },
  "language_info": {
   "codemirror_mode": {
    "name": "ipython",
    "version": 3
   },
   "file_extension": ".py",
   "mimetype": "text/x-python",
   "name": "python",
   "nbconvert_exporter": "python",
   "pygments_lexer": "ipython3",
   "version": "3.10.13"
  }
 },
 "nbformat": 4,
 "nbformat_minor": 2
}
